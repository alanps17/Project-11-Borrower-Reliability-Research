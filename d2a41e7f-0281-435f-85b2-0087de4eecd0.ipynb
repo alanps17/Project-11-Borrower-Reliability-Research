{
 "cells": [
  {
   "cell_type": "markdown",
   "id": "386f2ae7",
   "metadata": {
    "deletable": false,
    "editable": false,
    "id": "386f2ae7"
   },
   "source": [
    "# Исследование надежности заемщиков\n"
   ]
  },
  {
   "cell_type": "markdown",
   "id": "ffe86f65",
   "metadata": {
    "deletable": false,
    "editable": false,
    "id": "ffe86f65"
   },
   "source": [
    "Во второй части проекта вы выполните шаги 3 и 4. Их вручную проверит ревьюер.\n",
    "Чтобы вам не пришлось писать код заново для шагов 1 и 2, мы добавили авторские решения в ячейки с кодом. \n",
    "\n"
   ]
  },
  {
   "cell_type": "markdown",
   "id": "26613308",
   "metadata": {
    "deletable": false,
    "editable": false,
    "id": "26613308"
   },
   "source": [
    "## Откройте таблицу и изучите общую информацию о данных"
   ]
  },
  {
   "cell_type": "markdown",
   "id": "3c9f838e",
   "metadata": {
    "deletable": false,
    "editable": false,
    "id": "3c9f838e"
   },
   "source": [
    "**Задание 1. Импортируйте библиотеку pandas. Считайте данные из csv-файла в датафрейм и сохраните в переменную `data`. Путь к файлу:**\n",
    "\n",
    "`/datasets/data.csv`"
   ]
  },
  {
   "cell_type": "code",
   "execution_count": 1,
   "id": "77a68a90",
   "metadata": {
    "deletable": false,
    "id": "77a68a90"
   },
   "outputs": [],
   "source": [
    "import pandas as pd\n",
    "\n",
    "try:\n",
    "    data = pd.read_csv('/datasets/data.csv')\n",
    "except:\n",
    "    data = pd.read_csv('https://code.s3.yandex.net/datasets/data.csv')"
   ]
  },
  {
   "cell_type": "markdown",
   "id": "45365635",
   "metadata": {
    "deletable": false,
    "editable": false,
    "id": "45365635"
   },
   "source": [
    "**Задание 2. Выведите первые 20 строчек датафрейма `data` на экран.**"
   ]
  },
  {
   "cell_type": "code",
   "execution_count": 2,
   "id": "b0451a9a",
   "metadata": {
    "deletable": false,
    "id": "b0451a9a",
    "outputId": "1a8f3ef2-d323-4ec2-ddf7-89670b5944c4"
   },
   "outputs": [
    {
     "data": {
      "text/html": [
       "<div>\n",
       "<style scoped>\n",
       "    .dataframe tbody tr th:only-of-type {\n",
       "        vertical-align: middle;\n",
       "    }\n",
       "\n",
       "    .dataframe tbody tr th {\n",
       "        vertical-align: top;\n",
       "    }\n",
       "\n",
       "    .dataframe thead th {\n",
       "        text-align: right;\n",
       "    }\n",
       "</style>\n",
       "<table border=\"1\" class=\"dataframe\">\n",
       "  <thead>\n",
       "    <tr style=\"text-align: right;\">\n",
       "      <th></th>\n",
       "      <th>children</th>\n",
       "      <th>days_employed</th>\n",
       "      <th>dob_years</th>\n",
       "      <th>education</th>\n",
       "      <th>education_id</th>\n",
       "      <th>family_status</th>\n",
       "      <th>family_status_id</th>\n",
       "      <th>gender</th>\n",
       "      <th>income_type</th>\n",
       "      <th>debt</th>\n",
       "      <th>total_income</th>\n",
       "      <th>purpose</th>\n",
       "    </tr>\n",
       "  </thead>\n",
       "  <tbody>\n",
       "    <tr>\n",
       "      <th>0</th>\n",
       "      <td>1</td>\n",
       "      <td>-8437.673028</td>\n",
       "      <td>42</td>\n",
       "      <td>высшее</td>\n",
       "      <td>0</td>\n",
       "      <td>женат / замужем</td>\n",
       "      <td>0</td>\n",
       "      <td>F</td>\n",
       "      <td>сотрудник</td>\n",
       "      <td>0</td>\n",
       "      <td>253875.639453</td>\n",
       "      <td>покупка жилья</td>\n",
       "    </tr>\n",
       "    <tr>\n",
       "      <th>1</th>\n",
       "      <td>1</td>\n",
       "      <td>-4024.803754</td>\n",
       "      <td>36</td>\n",
       "      <td>среднее</td>\n",
       "      <td>1</td>\n",
       "      <td>женат / замужем</td>\n",
       "      <td>0</td>\n",
       "      <td>F</td>\n",
       "      <td>сотрудник</td>\n",
       "      <td>0</td>\n",
       "      <td>112080.014102</td>\n",
       "      <td>приобретение автомобиля</td>\n",
       "    </tr>\n",
       "    <tr>\n",
       "      <th>2</th>\n",
       "      <td>0</td>\n",
       "      <td>-5623.422610</td>\n",
       "      <td>33</td>\n",
       "      <td>Среднее</td>\n",
       "      <td>1</td>\n",
       "      <td>женат / замужем</td>\n",
       "      <td>0</td>\n",
       "      <td>M</td>\n",
       "      <td>сотрудник</td>\n",
       "      <td>0</td>\n",
       "      <td>145885.952297</td>\n",
       "      <td>покупка жилья</td>\n",
       "    </tr>\n",
       "    <tr>\n",
       "      <th>3</th>\n",
       "      <td>3</td>\n",
       "      <td>-4124.747207</td>\n",
       "      <td>32</td>\n",
       "      <td>среднее</td>\n",
       "      <td>1</td>\n",
       "      <td>женат / замужем</td>\n",
       "      <td>0</td>\n",
       "      <td>M</td>\n",
       "      <td>сотрудник</td>\n",
       "      <td>0</td>\n",
       "      <td>267628.550329</td>\n",
       "      <td>дополнительное образование</td>\n",
       "    </tr>\n",
       "    <tr>\n",
       "      <th>4</th>\n",
       "      <td>0</td>\n",
       "      <td>340266.072047</td>\n",
       "      <td>53</td>\n",
       "      <td>среднее</td>\n",
       "      <td>1</td>\n",
       "      <td>гражданский брак</td>\n",
       "      <td>1</td>\n",
       "      <td>F</td>\n",
       "      <td>пенсионер</td>\n",
       "      <td>0</td>\n",
       "      <td>158616.077870</td>\n",
       "      <td>сыграть свадьбу</td>\n",
       "    </tr>\n",
       "    <tr>\n",
       "      <th>5</th>\n",
       "      <td>0</td>\n",
       "      <td>-926.185831</td>\n",
       "      <td>27</td>\n",
       "      <td>высшее</td>\n",
       "      <td>0</td>\n",
       "      <td>гражданский брак</td>\n",
       "      <td>1</td>\n",
       "      <td>M</td>\n",
       "      <td>компаньон</td>\n",
       "      <td>0</td>\n",
       "      <td>255763.565419</td>\n",
       "      <td>покупка жилья</td>\n",
       "    </tr>\n",
       "    <tr>\n",
       "      <th>6</th>\n",
       "      <td>0</td>\n",
       "      <td>-2879.202052</td>\n",
       "      <td>43</td>\n",
       "      <td>высшее</td>\n",
       "      <td>0</td>\n",
       "      <td>женат / замужем</td>\n",
       "      <td>0</td>\n",
       "      <td>F</td>\n",
       "      <td>компаньон</td>\n",
       "      <td>0</td>\n",
       "      <td>240525.971920</td>\n",
       "      <td>операции с жильем</td>\n",
       "    </tr>\n",
       "    <tr>\n",
       "      <th>7</th>\n",
       "      <td>0</td>\n",
       "      <td>-152.779569</td>\n",
       "      <td>50</td>\n",
       "      <td>СРЕДНЕЕ</td>\n",
       "      <td>1</td>\n",
       "      <td>женат / замужем</td>\n",
       "      <td>0</td>\n",
       "      <td>M</td>\n",
       "      <td>сотрудник</td>\n",
       "      <td>0</td>\n",
       "      <td>135823.934197</td>\n",
       "      <td>образование</td>\n",
       "    </tr>\n",
       "    <tr>\n",
       "      <th>8</th>\n",
       "      <td>2</td>\n",
       "      <td>-6929.865299</td>\n",
       "      <td>35</td>\n",
       "      <td>ВЫСШЕЕ</td>\n",
       "      <td>0</td>\n",
       "      <td>гражданский брак</td>\n",
       "      <td>1</td>\n",
       "      <td>F</td>\n",
       "      <td>сотрудник</td>\n",
       "      <td>0</td>\n",
       "      <td>95856.832424</td>\n",
       "      <td>на проведение свадьбы</td>\n",
       "    </tr>\n",
       "    <tr>\n",
       "      <th>9</th>\n",
       "      <td>0</td>\n",
       "      <td>-2188.756445</td>\n",
       "      <td>41</td>\n",
       "      <td>среднее</td>\n",
       "      <td>1</td>\n",
       "      <td>женат / замужем</td>\n",
       "      <td>0</td>\n",
       "      <td>M</td>\n",
       "      <td>сотрудник</td>\n",
       "      <td>0</td>\n",
       "      <td>144425.938277</td>\n",
       "      <td>покупка жилья для семьи</td>\n",
       "    </tr>\n",
       "    <tr>\n",
       "      <th>10</th>\n",
       "      <td>2</td>\n",
       "      <td>-4171.483647</td>\n",
       "      <td>36</td>\n",
       "      <td>высшее</td>\n",
       "      <td>0</td>\n",
       "      <td>женат / замужем</td>\n",
       "      <td>0</td>\n",
       "      <td>M</td>\n",
       "      <td>компаньон</td>\n",
       "      <td>0</td>\n",
       "      <td>113943.491460</td>\n",
       "      <td>покупка недвижимости</td>\n",
       "    </tr>\n",
       "    <tr>\n",
       "      <th>11</th>\n",
       "      <td>0</td>\n",
       "      <td>-792.701887</td>\n",
       "      <td>40</td>\n",
       "      <td>среднее</td>\n",
       "      <td>1</td>\n",
       "      <td>женат / замужем</td>\n",
       "      <td>0</td>\n",
       "      <td>F</td>\n",
       "      <td>сотрудник</td>\n",
       "      <td>0</td>\n",
       "      <td>77069.234271</td>\n",
       "      <td>покупка коммерческой недвижимости</td>\n",
       "    </tr>\n",
       "    <tr>\n",
       "      <th>12</th>\n",
       "      <td>0</td>\n",
       "      <td>NaN</td>\n",
       "      <td>65</td>\n",
       "      <td>среднее</td>\n",
       "      <td>1</td>\n",
       "      <td>гражданский брак</td>\n",
       "      <td>1</td>\n",
       "      <td>M</td>\n",
       "      <td>пенсионер</td>\n",
       "      <td>0</td>\n",
       "      <td>NaN</td>\n",
       "      <td>сыграть свадьбу</td>\n",
       "    </tr>\n",
       "    <tr>\n",
       "      <th>13</th>\n",
       "      <td>0</td>\n",
       "      <td>-1846.641941</td>\n",
       "      <td>54</td>\n",
       "      <td>неоконченное высшее</td>\n",
       "      <td>2</td>\n",
       "      <td>женат / замужем</td>\n",
       "      <td>0</td>\n",
       "      <td>F</td>\n",
       "      <td>сотрудник</td>\n",
       "      <td>0</td>\n",
       "      <td>130458.228857</td>\n",
       "      <td>приобретение автомобиля</td>\n",
       "    </tr>\n",
       "    <tr>\n",
       "      <th>14</th>\n",
       "      <td>0</td>\n",
       "      <td>-1844.956182</td>\n",
       "      <td>56</td>\n",
       "      <td>высшее</td>\n",
       "      <td>0</td>\n",
       "      <td>гражданский брак</td>\n",
       "      <td>1</td>\n",
       "      <td>F</td>\n",
       "      <td>компаньон</td>\n",
       "      <td>1</td>\n",
       "      <td>165127.911772</td>\n",
       "      <td>покупка жилой недвижимости</td>\n",
       "    </tr>\n",
       "    <tr>\n",
       "      <th>15</th>\n",
       "      <td>1</td>\n",
       "      <td>-972.364419</td>\n",
       "      <td>26</td>\n",
       "      <td>среднее</td>\n",
       "      <td>1</td>\n",
       "      <td>женат / замужем</td>\n",
       "      <td>0</td>\n",
       "      <td>F</td>\n",
       "      <td>сотрудник</td>\n",
       "      <td>0</td>\n",
       "      <td>116820.904450</td>\n",
       "      <td>строительство собственной недвижимости</td>\n",
       "    </tr>\n",
       "    <tr>\n",
       "      <th>16</th>\n",
       "      <td>0</td>\n",
       "      <td>-1719.934226</td>\n",
       "      <td>35</td>\n",
       "      <td>среднее</td>\n",
       "      <td>1</td>\n",
       "      <td>женат / замужем</td>\n",
       "      <td>0</td>\n",
       "      <td>F</td>\n",
       "      <td>сотрудник</td>\n",
       "      <td>0</td>\n",
       "      <td>289202.704229</td>\n",
       "      <td>недвижимость</td>\n",
       "    </tr>\n",
       "    <tr>\n",
       "      <th>17</th>\n",
       "      <td>0</td>\n",
       "      <td>-2369.999720</td>\n",
       "      <td>33</td>\n",
       "      <td>высшее</td>\n",
       "      <td>0</td>\n",
       "      <td>гражданский брак</td>\n",
       "      <td>1</td>\n",
       "      <td>M</td>\n",
       "      <td>сотрудник</td>\n",
       "      <td>0</td>\n",
       "      <td>90410.586745</td>\n",
       "      <td>строительство недвижимости</td>\n",
       "    </tr>\n",
       "    <tr>\n",
       "      <th>18</th>\n",
       "      <td>0</td>\n",
       "      <td>400281.136913</td>\n",
       "      <td>53</td>\n",
       "      <td>среднее</td>\n",
       "      <td>1</td>\n",
       "      <td>вдовец / вдова</td>\n",
       "      <td>2</td>\n",
       "      <td>F</td>\n",
       "      <td>пенсионер</td>\n",
       "      <td>0</td>\n",
       "      <td>56823.777243</td>\n",
       "      <td>на покупку подержанного автомобиля</td>\n",
       "    </tr>\n",
       "    <tr>\n",
       "      <th>19</th>\n",
       "      <td>0</td>\n",
       "      <td>-10038.818549</td>\n",
       "      <td>48</td>\n",
       "      <td>СРЕДНЕЕ</td>\n",
       "      <td>1</td>\n",
       "      <td>в разводе</td>\n",
       "      <td>3</td>\n",
       "      <td>F</td>\n",
       "      <td>сотрудник</td>\n",
       "      <td>0</td>\n",
       "      <td>242831.107982</td>\n",
       "      <td>на покупку своего автомобиля</td>\n",
       "    </tr>\n",
       "  </tbody>\n",
       "</table>\n",
       "</div>"
      ],
      "text/plain": [
       "    children  days_employed  dob_years            education  education_id  \\\n",
       "0          1   -8437.673028         42               высшее             0   \n",
       "1          1   -4024.803754         36              среднее             1   \n",
       "2          0   -5623.422610         33              Среднее             1   \n",
       "3          3   -4124.747207         32              среднее             1   \n",
       "4          0  340266.072047         53              среднее             1   \n",
       "5          0    -926.185831         27               высшее             0   \n",
       "6          0   -2879.202052         43               высшее             0   \n",
       "7          0    -152.779569         50              СРЕДНЕЕ             1   \n",
       "8          2   -6929.865299         35               ВЫСШЕЕ             0   \n",
       "9          0   -2188.756445         41              среднее             1   \n",
       "10         2   -4171.483647         36               высшее             0   \n",
       "11         0    -792.701887         40              среднее             1   \n",
       "12         0            NaN         65              среднее             1   \n",
       "13         0   -1846.641941         54  неоконченное высшее             2   \n",
       "14         0   -1844.956182         56               высшее             0   \n",
       "15         1    -972.364419         26              среднее             1   \n",
       "16         0   -1719.934226         35              среднее             1   \n",
       "17         0   -2369.999720         33               высшее             0   \n",
       "18         0  400281.136913         53              среднее             1   \n",
       "19         0  -10038.818549         48              СРЕДНЕЕ             1   \n",
       "\n",
       "       family_status  family_status_id gender income_type  debt  \\\n",
       "0    женат / замужем                 0      F   сотрудник     0   \n",
       "1    женат / замужем                 0      F   сотрудник     0   \n",
       "2    женат / замужем                 0      M   сотрудник     0   \n",
       "3    женат / замужем                 0      M   сотрудник     0   \n",
       "4   гражданский брак                 1      F   пенсионер     0   \n",
       "5   гражданский брак                 1      M   компаньон     0   \n",
       "6    женат / замужем                 0      F   компаньон     0   \n",
       "7    женат / замужем                 0      M   сотрудник     0   \n",
       "8   гражданский брак                 1      F   сотрудник     0   \n",
       "9    женат / замужем                 0      M   сотрудник     0   \n",
       "10   женат / замужем                 0      M   компаньон     0   \n",
       "11   женат / замужем                 0      F   сотрудник     0   \n",
       "12  гражданский брак                 1      M   пенсионер     0   \n",
       "13   женат / замужем                 0      F   сотрудник     0   \n",
       "14  гражданский брак                 1      F   компаньон     1   \n",
       "15   женат / замужем                 0      F   сотрудник     0   \n",
       "16   женат / замужем                 0      F   сотрудник     0   \n",
       "17  гражданский брак                 1      M   сотрудник     0   \n",
       "18    вдовец / вдова                 2      F   пенсионер     0   \n",
       "19         в разводе                 3      F   сотрудник     0   \n",
       "\n",
       "     total_income                                 purpose  \n",
       "0   253875.639453                           покупка жилья  \n",
       "1   112080.014102                 приобретение автомобиля  \n",
       "2   145885.952297                           покупка жилья  \n",
       "3   267628.550329              дополнительное образование  \n",
       "4   158616.077870                         сыграть свадьбу  \n",
       "5   255763.565419                           покупка жилья  \n",
       "6   240525.971920                       операции с жильем  \n",
       "7   135823.934197                             образование  \n",
       "8    95856.832424                   на проведение свадьбы  \n",
       "9   144425.938277                 покупка жилья для семьи  \n",
       "10  113943.491460                    покупка недвижимости  \n",
       "11   77069.234271       покупка коммерческой недвижимости  \n",
       "12            NaN                         сыграть свадьбу  \n",
       "13  130458.228857                 приобретение автомобиля  \n",
       "14  165127.911772              покупка жилой недвижимости  \n",
       "15  116820.904450  строительство собственной недвижимости  \n",
       "16  289202.704229                            недвижимость  \n",
       "17   90410.586745              строительство недвижимости  \n",
       "18   56823.777243      на покупку подержанного автомобиля  \n",
       "19  242831.107982            на покупку своего автомобиля  "
      ]
     },
     "execution_count": 2,
     "metadata": {},
     "output_type": "execute_result"
    }
   ],
   "source": [
    "data.head(20)"
   ]
  },
  {
   "cell_type": "markdown",
   "id": "0ed8f27f",
   "metadata": {
    "deletable": false,
    "editable": false,
    "id": "0ed8f27f"
   },
   "source": [
    "**Задание 3. Выведите основную информацию о датафрейме с помощью метода `info()`.**"
   ]
  },
  {
   "cell_type": "code",
   "execution_count": 3,
   "id": "ab3f863b",
   "metadata": {
    "deletable": false,
    "id": "ab3f863b",
    "outputId": "15376089-8dad-46c9-b520-c05248d43158"
   },
   "outputs": [
    {
     "name": "stdout",
     "output_type": "stream",
     "text": [
      "<class 'pandas.core.frame.DataFrame'>\n",
      "RangeIndex: 21525 entries, 0 to 21524\n",
      "Data columns (total 12 columns):\n",
      " #   Column            Non-Null Count  Dtype  \n",
      "---  ------            --------------  -----  \n",
      " 0   children          21525 non-null  int64  \n",
      " 1   days_employed     19351 non-null  float64\n",
      " 2   dob_years         21525 non-null  int64  \n",
      " 3   education         21525 non-null  object \n",
      " 4   education_id      21525 non-null  int64  \n",
      " 5   family_status     21525 non-null  object \n",
      " 6   family_status_id  21525 non-null  int64  \n",
      " 7   gender            21525 non-null  object \n",
      " 8   income_type       21525 non-null  object \n",
      " 9   debt              21525 non-null  int64  \n",
      " 10  total_income      19351 non-null  float64\n",
      " 11  purpose           21525 non-null  object \n",
      "dtypes: float64(2), int64(5), object(5)\n",
      "memory usage: 2.0+ MB\n"
     ]
    }
   ],
   "source": [
    "data.info()"
   ]
  },
  {
   "cell_type": "markdown",
   "id": "60e3e22d",
   "metadata": {
    "deletable": false,
    "editable": false,
    "id": "60e3e22d"
   },
   "source": [
    "## Предобработка данных"
   ]
  },
  {
   "cell_type": "markdown",
   "id": "03dc170c",
   "metadata": {
    "deletable": false,
    "editable": false,
    "id": "03dc170c"
   },
   "source": [
    "### Удаление пропусков"
   ]
  },
  {
   "cell_type": "markdown",
   "id": "a4f54eef",
   "metadata": {
    "deletable": false,
    "editable": false,
    "id": "a4f54eef"
   },
   "source": [
    "**Задание 4. Выведите количество пропущенных значений для каждого столбца. Используйте комбинацию двух методов.**"
   ]
  },
  {
   "cell_type": "code",
   "execution_count": 4,
   "id": "2dc372b2",
   "metadata": {
    "deletable": false,
    "id": "2dc372b2",
    "outputId": "81f4d817-781c-465c-ed15-91ce4446810d"
   },
   "outputs": [
    {
     "data": {
      "text/plain": [
       "children               0\n",
       "days_employed       2174\n",
       "dob_years              0\n",
       "education              0\n",
       "education_id           0\n",
       "family_status          0\n",
       "family_status_id       0\n",
       "gender                 0\n",
       "income_type            0\n",
       "debt                   0\n",
       "total_income        2174\n",
       "purpose                0\n",
       "dtype: int64"
      ]
     },
     "execution_count": 4,
     "metadata": {},
     "output_type": "execute_result"
    }
   ],
   "source": [
    "data.isna().sum()"
   ]
  },
  {
   "cell_type": "markdown",
   "id": "14f011b1",
   "metadata": {
    "deletable": false,
    "editable": false,
    "id": "14f011b1"
   },
   "source": [
    "**Задание 5. В двух столбцах есть пропущенные значения. Один из них — `days_employed`. Пропуски в этом столбце вы обработаете на следующем этапе. Другой столбец с пропущенными значениями — `total_income` — хранит данные о доходах. На сумму дохода сильнее всего влияет тип занятости, поэтому заполнить пропуски в этом столбце нужно медианным значением по каждому типу из столбца `income_type`. Например, у человека с типом занятости `сотрудник` пропуск в столбце `total_income` должен быть заполнен медианным доходом среди всех записей с тем же типом.**"
   ]
  },
  {
   "cell_type": "code",
   "execution_count": 5,
   "id": "bdabfb6e",
   "metadata": {
    "deletable": false,
    "id": "bdabfb6e"
   },
   "outputs": [],
   "source": [
    "for t in data['income_type'].unique():\n",
    "    data.loc[(data['income_type'] == t) & (data['total_income'].isna()), 'total_income'] = \\\n",
    "    data.loc[(data['income_type'] == t), 'total_income'].median()"
   ]
  },
  {
   "cell_type": "markdown",
   "id": "5be34059",
   "metadata": {
    "deletable": false,
    "editable": false,
    "id": "5be34059"
   },
   "source": [
    "### Обработка аномальных значений"
   ]
  },
  {
   "cell_type": "markdown",
   "id": "a87606cb",
   "metadata": {
    "deletable": false,
    "editable": false,
    "id": "a87606cb"
   },
   "source": [
    "**Задание 6. В данных могут встречаться артефакты (аномалии) — значения, которые не отражают действительность и появились по какой-то ошибке. таким артефактом будет отрицательное количество дней трудового стажа в столбце `days_employed`. Для реальных данных это нормально. Обработайте значения в этом столбце: замените все отрицательные значения положительными с помощью метода `abs()`.**"
   ]
  },
  {
   "cell_type": "code",
   "execution_count": 6,
   "id": "020c46cc",
   "metadata": {
    "deletable": false,
    "id": "020c46cc"
   },
   "outputs": [],
   "source": [
    "data['days_employed'] = data['days_employed'].abs()"
   ]
  },
  {
   "cell_type": "markdown",
   "id": "45538a3a",
   "metadata": {
    "deletable": false,
    "editable": false,
    "id": "45538a3a"
   },
   "source": [
    "**Задание 7. Для каждого типа занятости выведите медианное значение трудового стажа `days_employed` в днях.**"
   ]
  },
  {
   "cell_type": "code",
   "execution_count": 7,
   "id": "cd3e6328",
   "metadata": {
    "deletable": false,
    "id": "cd3e6328",
    "outputId": "801ef80e-522b-4668-f34e-565af7432bcf"
   },
   "outputs": [
    {
     "data": {
      "text/plain": [
       "income_type\n",
       "безработный        366413.652744\n",
       "в декрете            3296.759962\n",
       "госслужащий          2689.368353\n",
       "компаньон            1547.382223\n",
       "пенсионер          365213.306266\n",
       "предприниматель       520.848083\n",
       "сотрудник            1574.202821\n",
       "студент               578.751554\n",
       "Name: days_employed, dtype: float64"
      ]
     },
     "execution_count": 7,
     "metadata": {},
     "output_type": "execute_result"
    }
   ],
   "source": [
    "data.groupby('income_type')['days_employed'].agg('median')"
   ]
  },
  {
   "cell_type": "markdown",
   "id": "90c5f058",
   "metadata": {
    "deletable": false,
    "editable": false,
    "id": "90c5f058"
   },
   "source": [
    "У двух типов (безработные и пенсионеры) получатся аномально большие значения. Исправить такие значения сложно, поэтому оставьте их как есть."
   ]
  },
  {
   "cell_type": "markdown",
   "id": "9652e50d",
   "metadata": {
    "deletable": false,
    "editable": false,
    "id": "9652e50d"
   },
   "source": [
    "**Задание 8. Выведите перечень уникальных значений столбца `children`.**"
   ]
  },
  {
   "cell_type": "code",
   "execution_count": 8,
   "id": "dbb37b8e",
   "metadata": {
    "deletable": false,
    "id": "dbb37b8e",
    "outputId": "6975b15c-7f95-4697-d16d-a0c79b657b03"
   },
   "outputs": [
    {
     "data": {
      "text/plain": [
       "array([ 1,  0,  3,  2, -1,  4, 20,  5])"
      ]
     },
     "execution_count": 8,
     "metadata": {},
     "output_type": "execute_result"
    }
   ],
   "source": [
    "data['children'].unique()"
   ]
  },
  {
   "cell_type": "markdown",
   "id": "2b8b0715",
   "metadata": {
    "deletable": false,
    "editable": false,
    "id": "2b8b0715"
   },
   "source": [
    "**Задание 9. В столбце `children` есть два аномальных значения. Удалите строки, в которых встречаются такие аномальные значения из датафрейма `data`.**"
   ]
  },
  {
   "cell_type": "code",
   "execution_count": 9,
   "id": "20009df8",
   "metadata": {
    "deletable": false,
    "id": "20009df8"
   },
   "outputs": [],
   "source": [
    "data = data[(data['children'] != -1) & (data['children'] != 20)]"
   ]
  },
  {
   "cell_type": "markdown",
   "id": "8c6ac9f1",
   "metadata": {
    "deletable": false,
    "editable": false,
    "id": "8c6ac9f1"
   },
   "source": [
    "**Задание 10. Ещё раз выведите перечень уникальных значений столбца `children`, чтобы убедиться, что артефакты удалены.**"
   ]
  },
  {
   "cell_type": "code",
   "execution_count": 10,
   "id": "07337b81",
   "metadata": {
    "deletable": false,
    "id": "07337b81",
    "outputId": "b2097101-d49d-44d9-901b-32a65c9463d1"
   },
   "outputs": [
    {
     "data": {
      "text/plain": [
       "array([1, 0, 3, 2, 4, 5])"
      ]
     },
     "execution_count": 10,
     "metadata": {},
     "output_type": "execute_result"
    }
   ],
   "source": [
    "data['children'].unique()"
   ]
  },
  {
   "cell_type": "markdown",
   "id": "ee3f52d4",
   "metadata": {
    "deletable": false,
    "editable": false,
    "id": "ee3f52d4"
   },
   "source": [
    "### Удаление пропусков (продолжение)"
   ]
  },
  {
   "cell_type": "markdown",
   "id": "a700b0e4",
   "metadata": {
    "deletable": false,
    "editable": false,
    "id": "a700b0e4"
   },
   "source": [
    "**Задание 11. Заполните пропуски в столбце `days_employed` медианными значениями по каждого типа занятости `income_type`.**"
   ]
  },
  {
   "cell_type": "code",
   "execution_count": 11,
   "id": "61946b83",
   "metadata": {
    "deletable": false,
    "id": "61946b83"
   },
   "outputs": [],
   "source": [
    "for t in data['income_type'].unique():\n",
    "    data.loc[(data['income_type'] == t) & (data['days_employed'].isna()), 'days_employed'] = \\\n",
    "    data.loc[(data['income_type'] == t), 'days_employed'].median()"
   ]
  },
  {
   "cell_type": "markdown",
   "id": "550dcd9b",
   "metadata": {
    "deletable": false,
    "editable": false,
    "id": "550dcd9b"
   },
   "source": [
    "**Задание 12. Убедитесь, что все пропуски заполнены. Проверьте себя и ещё раз выведите количество пропущенных значений для каждого столбца с помощью двух методов.**"
   ]
  },
  {
   "cell_type": "code",
   "execution_count": 12,
   "id": "937c7014",
   "metadata": {
    "deletable": false,
    "id": "937c7014",
    "outputId": "8da1e4e1-358e-4e87-98c9-f261bce0a7b2"
   },
   "outputs": [
    {
     "data": {
      "text/plain": [
       "children            0\n",
       "days_employed       0\n",
       "dob_years           0\n",
       "education           0\n",
       "education_id        0\n",
       "family_status       0\n",
       "family_status_id    0\n",
       "gender              0\n",
       "income_type         0\n",
       "debt                0\n",
       "total_income        0\n",
       "purpose             0\n",
       "dtype: int64"
      ]
     },
     "execution_count": 12,
     "metadata": {},
     "output_type": "execute_result"
    }
   ],
   "source": [
    "data.isna().sum()"
   ]
  },
  {
   "cell_type": "markdown",
   "id": "d522e295",
   "metadata": {
    "deletable": false,
    "editable": false,
    "id": "d522e295"
   },
   "source": [
    "### Изменение типов данных"
   ]
  },
  {
   "cell_type": "markdown",
   "id": "c229c581",
   "metadata": {
    "deletable": false,
    "editable": false,
    "id": "c229c581"
   },
   "source": [
    "**Задание 13. Замените вещественный тип данных в столбце `total_income` на целочисленный с помощью метода `astype()`.**"
   ]
  },
  {
   "cell_type": "code",
   "execution_count": 13,
   "id": "31036462",
   "metadata": {
    "deletable": false,
    "id": "31036462"
   },
   "outputs": [],
   "source": [
    "data['total_income'] = data['total_income'].astype(int)"
   ]
  },
  {
   "cell_type": "markdown",
   "id": "b8e3d1d9",
   "metadata": {
    "deletable": false,
    "editable": false,
    "id": "b8e3d1d9"
   },
   "source": [
    "### Обработка дубликатов"
   ]
  },
  {
   "cell_type": "markdown",
   "id": "9be53c49",
   "metadata": {
    "deletable": false,
    "editable": false,
    "id": "9be53c49"
   },
   "source": [
    "**Задание 14. Обработайте неявные дубликаты в столбце `education`. В этом столбце есть одни и те же значения, но записанные по-разному: с использованием заглавных и строчных букв. Приведите их к нижнему регистру.**"
   ]
  },
  {
   "cell_type": "code",
   "execution_count": 14,
   "id": "d89e73e1",
   "metadata": {
    "deletable": false,
    "id": "d89e73e1"
   },
   "outputs": [],
   "source": [
    "data['education'] = data['education'].str.lower()"
   ]
  },
  {
   "cell_type": "markdown",
   "id": "01d4500e",
   "metadata": {
    "deletable": false,
    "editable": false,
    "id": "01d4500e"
   },
   "source": [
    "**Задание 15. Выведите на экран количество строк-дубликатов в данных. Если такие строки присутствуют, удалите их.**"
   ]
  },
  {
   "cell_type": "code",
   "execution_count": 15,
   "id": "e10efb23",
   "metadata": {
    "deletable": false,
    "id": "e10efb23",
    "outputId": "9684deba-1934-42d1-99e1-cda61740f822"
   },
   "outputs": [
    {
     "data": {
      "text/plain": [
       "71"
      ]
     },
     "execution_count": 15,
     "metadata": {},
     "output_type": "execute_result"
    }
   ],
   "source": [
    "data.duplicated().sum()"
   ]
  },
  {
   "cell_type": "code",
   "execution_count": 16,
   "id": "df853f20",
   "metadata": {
    "deletable": false,
    "id": "df853f20"
   },
   "outputs": [],
   "source": [
    "data = data.drop_duplicates()"
   ]
  },
  {
   "cell_type": "markdown",
   "id": "627be38f",
   "metadata": {
    "deletable": false,
    "editable": false,
    "id": "627be38f"
   },
   "source": [
    "### Категоризация данных"
   ]
  },
  {
   "cell_type": "markdown",
   "id": "4684c3e0",
   "metadata": {
    "deletable": false,
    "editable": false,
    "id": "4684c3e0"
   },
   "source": [
    "**Задание 16. На основании диапазонов, указанных ниже, создайте в датафрейме `data` столбец `total_income_category` с категориями:**\n",
    "\n",
    "- 0–30000 — `'E'`;\n",
    "- 30001–50000 — `'D'`;\n",
    "- 50001–200000 — `'C'`;\n",
    "- 200001–1000000 — `'B'`;\n",
    "- 1000001 и выше — `'A'`.\n",
    "\n",
    "\n",
    "**Например, кредитополучателю с доходом 25000 нужно назначить категорию `'E'`, а клиенту, получающему 235000, — `'B'`. Используйте собственную функцию с именем `categorize_income()` и метод `apply()`.**"
   ]
  },
  {
   "cell_type": "code",
   "execution_count": 17,
   "id": "78965238",
   "metadata": {
    "deletable": false,
    "id": "78965238"
   },
   "outputs": [],
   "source": [
    "def categorize_income(income):\n",
    "    try:\n",
    "        if 0 <= income <= 30000:\n",
    "            return 'E'\n",
    "        elif 30001 <= income <= 50000:\n",
    "            return 'D'\n",
    "        elif 50001 <= income <= 200000:\n",
    "            return 'C'\n",
    "        elif 200001 <= income <= 1000000:\n",
    "            return 'B'\n",
    "        elif income >= 1000001:\n",
    "            return 'A'\n",
    "    except:\n",
    "        pass"
   ]
  },
  {
   "cell_type": "code",
   "execution_count": 18,
   "id": "0980ada1",
   "metadata": {
    "deletable": false,
    "id": "0980ada1"
   },
   "outputs": [],
   "source": [
    "data['total_income_category'] = data['total_income'].apply(categorize_income)"
   ]
  },
  {
   "cell_type": "markdown",
   "id": "9917bba0",
   "metadata": {
    "deletable": false,
    "editable": false,
    "id": "9917bba0"
   },
   "source": [
    "**Задание 17. Выведите на экран перечень уникальных целей взятия кредита из столбца `purpose`.**"
   ]
  },
  {
   "cell_type": "code",
   "execution_count": 19,
   "id": "ee07b65e",
   "metadata": {
    "deletable": false,
    "id": "ee07b65e",
    "outputId": "673c12d9-7d7e-4ae0-9812-c622c89dd244"
   },
   "outputs": [
    {
     "data": {
      "text/plain": [
       "array(['покупка жилья', 'приобретение автомобиля',\n",
       "       'дополнительное образование', 'сыграть свадьбу',\n",
       "       'операции с жильем', 'образование', 'на проведение свадьбы',\n",
       "       'покупка жилья для семьи', 'покупка недвижимости',\n",
       "       'покупка коммерческой недвижимости', 'покупка жилой недвижимости',\n",
       "       'строительство собственной недвижимости', 'недвижимость',\n",
       "       'строительство недвижимости', 'на покупку подержанного автомобиля',\n",
       "       'на покупку своего автомобиля',\n",
       "       'операции с коммерческой недвижимостью',\n",
       "       'строительство жилой недвижимости', 'жилье',\n",
       "       'операции со своей недвижимостью', 'автомобили',\n",
       "       'заняться образованием', 'сделка с подержанным автомобилем',\n",
       "       'получение образования', 'автомобиль', 'свадьба',\n",
       "       'получение дополнительного образования', 'покупка своего жилья',\n",
       "       'операции с недвижимостью', 'получение высшего образования',\n",
       "       'свой автомобиль', 'сделка с автомобилем',\n",
       "       'профильное образование', 'высшее образование',\n",
       "       'покупка жилья для сдачи', 'на покупку автомобиля', 'ремонт жилью',\n",
       "       'заняться высшим образованием'], dtype=object)"
      ]
     },
     "execution_count": 19,
     "metadata": {},
     "output_type": "execute_result"
    }
   ],
   "source": [
    "data['purpose'].unique()"
   ]
  },
  {
   "cell_type": "markdown",
   "id": "52b79d56",
   "metadata": {
    "deletable": false,
    "editable": false,
    "id": "52b79d56"
   },
   "source": [
    "**Задание 18. Создайте функцию, которая на основании данных из столбца `purpose` сформирует новый столбец `purpose_category`, в который войдут следующие категории:**\n",
    "\n",
    "- `'операции с автомобилем'`,\n",
    "- `'операции с недвижимостью'`,\n",
    "- `'проведение свадьбы'`,\n",
    "- `'получение образования'`.\n",
    "\n",
    "**Например, если в столбце `purpose` находится подстрока `'на покупку автомобиля'`, то в столбце `purpose_category` должна появиться строка `'операции с автомобилем'`.**\n",
    "\n",
    "**Используйте собственную функцию с именем `categorize_purpose()` и метод `apply()`. Изучите данные в столбце `purpose` и определите, какие подстроки помогут вам правильно определить категорию.**"
   ]
  },
  {
   "cell_type": "code",
   "execution_count": 20,
   "id": "be41da5d",
   "metadata": {
    "deletable": false,
    "id": "be41da5d"
   },
   "outputs": [],
   "source": [
    "def categorize_purpose(row):\n",
    "    try:\n",
    "        if 'автом' in row:\n",
    "            return 'операции с автомобилем'\n",
    "        elif 'жил' in row or 'недвиж' in row:\n",
    "            return 'операции с недвижимостью'\n",
    "        elif 'свад' in row:\n",
    "            return 'проведение свадьбы'\n",
    "        elif 'образов' in row:\n",
    "            return 'получение образования'\n",
    "    except:\n",
    "        return 'нет категории'"
   ]
  },
  {
   "cell_type": "code",
   "execution_count": 21,
   "id": "94c4a19a",
   "metadata": {
    "deletable": false,
    "id": "94c4a19a"
   },
   "outputs": [
    {
     "data": {
      "text/html": [
       "<div>\n",
       "<style scoped>\n",
       "    .dataframe tbody tr th:only-of-type {\n",
       "        vertical-align: middle;\n",
       "    }\n",
       "\n",
       "    .dataframe tbody tr th {\n",
       "        vertical-align: top;\n",
       "    }\n",
       "\n",
       "    .dataframe thead th {\n",
       "        text-align: right;\n",
       "    }\n",
       "</style>\n",
       "<table border=\"1\" class=\"dataframe\">\n",
       "  <thead>\n",
       "    <tr style=\"text-align: right;\">\n",
       "      <th></th>\n",
       "      <th>children</th>\n",
       "      <th>days_employed</th>\n",
       "      <th>dob_years</th>\n",
       "      <th>education</th>\n",
       "      <th>education_id</th>\n",
       "      <th>family_status</th>\n",
       "      <th>family_status_id</th>\n",
       "      <th>gender</th>\n",
       "      <th>income_type</th>\n",
       "      <th>debt</th>\n",
       "      <th>total_income</th>\n",
       "      <th>purpose</th>\n",
       "      <th>total_income_category</th>\n",
       "      <th>purpose_category</th>\n",
       "    </tr>\n",
       "  </thead>\n",
       "  <tbody>\n",
       "    <tr>\n",
       "      <th>0</th>\n",
       "      <td>1</td>\n",
       "      <td>8437.673028</td>\n",
       "      <td>42</td>\n",
       "      <td>высшее</td>\n",
       "      <td>0</td>\n",
       "      <td>женат / замужем</td>\n",
       "      <td>0</td>\n",
       "      <td>F</td>\n",
       "      <td>сотрудник</td>\n",
       "      <td>0</td>\n",
       "      <td>253875</td>\n",
       "      <td>покупка жилья</td>\n",
       "      <td>B</td>\n",
       "      <td>операции с недвижимостью</td>\n",
       "    </tr>\n",
       "    <tr>\n",
       "      <th>1</th>\n",
       "      <td>1</td>\n",
       "      <td>4024.803754</td>\n",
       "      <td>36</td>\n",
       "      <td>среднее</td>\n",
       "      <td>1</td>\n",
       "      <td>женат / замужем</td>\n",
       "      <td>0</td>\n",
       "      <td>F</td>\n",
       "      <td>сотрудник</td>\n",
       "      <td>0</td>\n",
       "      <td>112080</td>\n",
       "      <td>приобретение автомобиля</td>\n",
       "      <td>C</td>\n",
       "      <td>операции с автомобилем</td>\n",
       "    </tr>\n",
       "    <tr>\n",
       "      <th>2</th>\n",
       "      <td>0</td>\n",
       "      <td>5623.422610</td>\n",
       "      <td>33</td>\n",
       "      <td>среднее</td>\n",
       "      <td>1</td>\n",
       "      <td>женат / замужем</td>\n",
       "      <td>0</td>\n",
       "      <td>M</td>\n",
       "      <td>сотрудник</td>\n",
       "      <td>0</td>\n",
       "      <td>145885</td>\n",
       "      <td>покупка жилья</td>\n",
       "      <td>C</td>\n",
       "      <td>операции с недвижимостью</td>\n",
       "    </tr>\n",
       "    <tr>\n",
       "      <th>3</th>\n",
       "      <td>3</td>\n",
       "      <td>4124.747207</td>\n",
       "      <td>32</td>\n",
       "      <td>среднее</td>\n",
       "      <td>1</td>\n",
       "      <td>женат / замужем</td>\n",
       "      <td>0</td>\n",
       "      <td>M</td>\n",
       "      <td>сотрудник</td>\n",
       "      <td>0</td>\n",
       "      <td>267628</td>\n",
       "      <td>дополнительное образование</td>\n",
       "      <td>B</td>\n",
       "      <td>получение образования</td>\n",
       "    </tr>\n",
       "    <tr>\n",
       "      <th>4</th>\n",
       "      <td>0</td>\n",
       "      <td>340266.072047</td>\n",
       "      <td>53</td>\n",
       "      <td>среднее</td>\n",
       "      <td>1</td>\n",
       "      <td>гражданский брак</td>\n",
       "      <td>1</td>\n",
       "      <td>F</td>\n",
       "      <td>пенсионер</td>\n",
       "      <td>0</td>\n",
       "      <td>158616</td>\n",
       "      <td>сыграть свадьбу</td>\n",
       "      <td>C</td>\n",
       "      <td>проведение свадьбы</td>\n",
       "    </tr>\n",
       "    <tr>\n",
       "      <th>...</th>\n",
       "      <td>...</td>\n",
       "      <td>...</td>\n",
       "      <td>...</td>\n",
       "      <td>...</td>\n",
       "      <td>...</td>\n",
       "      <td>...</td>\n",
       "      <td>...</td>\n",
       "      <td>...</td>\n",
       "      <td>...</td>\n",
       "      <td>...</td>\n",
       "      <td>...</td>\n",
       "      <td>...</td>\n",
       "      <td>...</td>\n",
       "      <td>...</td>\n",
       "    </tr>\n",
       "    <tr>\n",
       "      <th>21520</th>\n",
       "      <td>1</td>\n",
       "      <td>4529.316663</td>\n",
       "      <td>43</td>\n",
       "      <td>среднее</td>\n",
       "      <td>1</td>\n",
       "      <td>гражданский брак</td>\n",
       "      <td>1</td>\n",
       "      <td>F</td>\n",
       "      <td>компаньон</td>\n",
       "      <td>0</td>\n",
       "      <td>224791</td>\n",
       "      <td>операции с жильем</td>\n",
       "      <td>B</td>\n",
       "      <td>операции с недвижимостью</td>\n",
       "    </tr>\n",
       "    <tr>\n",
       "      <th>21521</th>\n",
       "      <td>0</td>\n",
       "      <td>343937.404131</td>\n",
       "      <td>67</td>\n",
       "      <td>среднее</td>\n",
       "      <td>1</td>\n",
       "      <td>женат / замужем</td>\n",
       "      <td>0</td>\n",
       "      <td>F</td>\n",
       "      <td>пенсионер</td>\n",
       "      <td>0</td>\n",
       "      <td>155999</td>\n",
       "      <td>сделка с автомобилем</td>\n",
       "      <td>C</td>\n",
       "      <td>операции с автомобилем</td>\n",
       "    </tr>\n",
       "    <tr>\n",
       "      <th>21522</th>\n",
       "      <td>1</td>\n",
       "      <td>2113.346888</td>\n",
       "      <td>38</td>\n",
       "      <td>среднее</td>\n",
       "      <td>1</td>\n",
       "      <td>гражданский брак</td>\n",
       "      <td>1</td>\n",
       "      <td>M</td>\n",
       "      <td>сотрудник</td>\n",
       "      <td>1</td>\n",
       "      <td>89672</td>\n",
       "      <td>недвижимость</td>\n",
       "      <td>C</td>\n",
       "      <td>операции с недвижимостью</td>\n",
       "    </tr>\n",
       "    <tr>\n",
       "      <th>21523</th>\n",
       "      <td>3</td>\n",
       "      <td>3112.481705</td>\n",
       "      <td>38</td>\n",
       "      <td>среднее</td>\n",
       "      <td>1</td>\n",
       "      <td>женат / замужем</td>\n",
       "      <td>0</td>\n",
       "      <td>M</td>\n",
       "      <td>сотрудник</td>\n",
       "      <td>1</td>\n",
       "      <td>244093</td>\n",
       "      <td>на покупку своего автомобиля</td>\n",
       "      <td>B</td>\n",
       "      <td>операции с автомобилем</td>\n",
       "    </tr>\n",
       "    <tr>\n",
       "      <th>21524</th>\n",
       "      <td>2</td>\n",
       "      <td>1984.507589</td>\n",
       "      <td>40</td>\n",
       "      <td>среднее</td>\n",
       "      <td>1</td>\n",
       "      <td>женат / замужем</td>\n",
       "      <td>0</td>\n",
       "      <td>F</td>\n",
       "      <td>сотрудник</td>\n",
       "      <td>0</td>\n",
       "      <td>82047</td>\n",
       "      <td>на покупку автомобиля</td>\n",
       "      <td>C</td>\n",
       "      <td>операции с автомобилем</td>\n",
       "    </tr>\n",
       "  </tbody>\n",
       "</table>\n",
       "<p>21331 rows × 14 columns</p>\n",
       "</div>"
      ],
      "text/plain": [
       "       children  days_employed  dob_years education  education_id  \\\n",
       "0             1    8437.673028         42    высшее             0   \n",
       "1             1    4024.803754         36   среднее             1   \n",
       "2             0    5623.422610         33   среднее             1   \n",
       "3             3    4124.747207         32   среднее             1   \n",
       "4             0  340266.072047         53   среднее             1   \n",
       "...         ...            ...        ...       ...           ...   \n",
       "21520         1    4529.316663         43   среднее             1   \n",
       "21521         0  343937.404131         67   среднее             1   \n",
       "21522         1    2113.346888         38   среднее             1   \n",
       "21523         3    3112.481705         38   среднее             1   \n",
       "21524         2    1984.507589         40   среднее             1   \n",
       "\n",
       "          family_status  family_status_id gender income_type  debt  \\\n",
       "0       женат / замужем                 0      F   сотрудник     0   \n",
       "1       женат / замужем                 0      F   сотрудник     0   \n",
       "2       женат / замужем                 0      M   сотрудник     0   \n",
       "3       женат / замужем                 0      M   сотрудник     0   \n",
       "4      гражданский брак                 1      F   пенсионер     0   \n",
       "...                 ...               ...    ...         ...   ...   \n",
       "21520  гражданский брак                 1      F   компаньон     0   \n",
       "21521   женат / замужем                 0      F   пенсионер     0   \n",
       "21522  гражданский брак                 1      M   сотрудник     1   \n",
       "21523   женат / замужем                 0      M   сотрудник     1   \n",
       "21524   женат / замужем                 0      F   сотрудник     0   \n",
       "\n",
       "       total_income                       purpose total_income_category  \\\n",
       "0            253875                 покупка жилья                     B   \n",
       "1            112080       приобретение автомобиля                     C   \n",
       "2            145885                 покупка жилья                     C   \n",
       "3            267628    дополнительное образование                     B   \n",
       "4            158616               сыграть свадьбу                     C   \n",
       "...             ...                           ...                   ...   \n",
       "21520        224791             операции с жильем                     B   \n",
       "21521        155999          сделка с автомобилем                     C   \n",
       "21522         89672                  недвижимость                     C   \n",
       "21523        244093  на покупку своего автомобиля                     B   \n",
       "21524         82047         на покупку автомобиля                     C   \n",
       "\n",
       "               purpose_category  \n",
       "0      операции с недвижимостью  \n",
       "1        операции с автомобилем  \n",
       "2      операции с недвижимостью  \n",
       "3         получение образования  \n",
       "4            проведение свадьбы  \n",
       "...                         ...  \n",
       "21520  операции с недвижимостью  \n",
       "21521    операции с автомобилем  \n",
       "21522  операции с недвижимостью  \n",
       "21523    операции с автомобилем  \n",
       "21524    операции с автомобилем  \n",
       "\n",
       "[21331 rows x 14 columns]"
      ]
     },
     "execution_count": 21,
     "metadata": {},
     "output_type": "execute_result"
    }
   ],
   "source": [
    "data['purpose_category'] = data['purpose'].apply(categorize_purpose)\n",
    "data"
   ]
  },
  {
   "cell_type": "markdown",
   "id": "3d596c34",
   "metadata": {
    "deletable": false,
    "editable": false,
    "id": "3d596c34"
   },
   "source": [
    "### Шаг 3. Исследуйте данные и ответьте на вопросы"
   ]
  },
  {
   "cell_type": "markdown",
   "id": "648db036",
   "metadata": {
    "deletable": false,
    "editable": false,
    "id": "648db036"
   },
   "source": [
    "#### 3.1 Есть ли зависимость между количеством детей и возвратом кредита в срок?"
   ]
  },
  {
   "cell_type": "code",
   "execution_count": 22,
   "id": "7fcff25e",
   "metadata": {
    "deletable": false,
    "id": "7fcff25e"
   },
   "outputs": [
    {
     "data": {
      "text/html": [
       "<div>\n",
       "<style scoped>\n",
       "    .dataframe tbody tr th:only-of-type {\n",
       "        vertical-align: middle;\n",
       "    }\n",
       "\n",
       "    .dataframe tbody tr th {\n",
       "        vertical-align: top;\n",
       "    }\n",
       "\n",
       "    .dataframe thead th {\n",
       "        text-align: right;\n",
       "    }\n",
       "</style>\n",
       "<table border=\"1\" class=\"dataframe\">\n",
       "  <thead>\n",
       "    <tr style=\"text-align: right;\">\n",
       "      <th></th>\n",
       "      <th>count</th>\n",
       "      <th>mean</th>\n",
       "      <th>sum</th>\n",
       "      <th>solvency</th>\n",
       "    </tr>\n",
       "    <tr>\n",
       "      <th>children</th>\n",
       "      <th></th>\n",
       "      <th></th>\n",
       "      <th></th>\n",
       "      <th></th>\n",
       "    </tr>\n",
       "  </thead>\n",
       "  <tbody>\n",
       "    <tr>\n",
       "      <th>0</th>\n",
       "      <td>14091.0</td>\n",
       "      <td>7.543822</td>\n",
       "      <td>1063.0</td>\n",
       "      <td>высокая платежеспособность клиента</td>\n",
       "    </tr>\n",
       "    <tr>\n",
       "      <th>1</th>\n",
       "      <td>4808.0</td>\n",
       "      <td>9.234609</td>\n",
       "      <td>444.0</td>\n",
       "      <td>низкая платежеспособность клиента</td>\n",
       "    </tr>\n",
       "    <tr>\n",
       "      <th>2</th>\n",
       "      <td>2052.0</td>\n",
       "      <td>9.454191</td>\n",
       "      <td>194.0</td>\n",
       "      <td>низкая платежеспособность клиента</td>\n",
       "    </tr>\n",
       "    <tr>\n",
       "      <th>3</th>\n",
       "      <td>330.0</td>\n",
       "      <td>8.181818</td>\n",
       "      <td>27.0</td>\n",
       "      <td>умеренная платежеспособность клиента</td>\n",
       "    </tr>\n",
       "    <tr>\n",
       "      <th>4</th>\n",
       "      <td>41.0</td>\n",
       "      <td>9.756098</td>\n",
       "      <td>4.0</td>\n",
       "      <td>низкая платежеспособность клиента</td>\n",
       "    </tr>\n",
       "    <tr>\n",
       "      <th>5</th>\n",
       "      <td>9.0</td>\n",
       "      <td>0.000000</td>\n",
       "      <td>0.0</td>\n",
       "      <td>высокая платежеспособность клиента</td>\n",
       "    </tr>\n",
       "  </tbody>\n",
       "</table>\n",
       "</div>"
      ],
      "text/plain": [
       "            count      mean     sum                              solvency\n",
       "children                                                                 \n",
       "0         14091.0  7.543822  1063.0    высокая платежеспособность клиента\n",
       "1          4808.0  9.234609   444.0     низкая платежеспособность клиента\n",
       "2          2052.0  9.454191   194.0     низкая платежеспособность клиента\n",
       "3           330.0  8.181818    27.0  умеренная платежеспособность клиента\n",
       "4            41.0  9.756098     4.0     низкая платежеспособность клиента\n",
       "5             9.0  0.000000     0.0    высокая платежеспособность клиента"
      ]
     },
     "execution_count": 22,
     "metadata": {},
     "output_type": "execute_result"
    }
   ],
   "source": [
    "# Ваш код будет здесь. Вы можете создавать новые ячейки.\n",
    "children_debt=data.pivot_table(index = ['children'], values = 'debt', aggfunc={'count','sum', 'mean'})\n",
    "children_debt['mean']=children_debt['mean']*100\n",
    "#print(children_debt) #общее количество заемщиков (count), сколько из них имеют долг (sum)\n",
    "#debt=0(нет задолженности), debt=1(есть задолженность)\n",
    "#Разделим показатели конверсии и установим для каждого показателя уровень платежеспособности, \n",
    "#где 0-8 имеет высокий уровень, от 8 до 9 умеренный, а более 9 низкий. \n",
    "\n",
    "def solvency_function(rows):\n",
    "    mean=rows['mean']\n",
    "    if mean<8:\n",
    "        return 'высокая платежеспособность клиента'\n",
    "    if mean>8 and mean<9:\n",
    "        return 'умеренная платежеспособность клиента'\n",
    "    return 'низкая платежеспособность клиента'\n",
    "children_debt['solvency']=children_debt.apply(solvency_function, axis=1)\n",
    "children_debt\n",
    "\n",
    "  \n"
   ]
  },
  {
   "cell_type": "markdown",
   "id": "2eb9088e",
   "metadata": {
    "deletable": false,
    "id": "2eb9088e"
   },
   "source": [
    "**Вывод:** Исходя из составленной сводной таблицы можно сделать вывод, что лучше всего отдают кредит категория клиентов, не имеющая детей (доля должников 7,5%). Хуже обстоят дело с категориями заемщиков, имеющих одного и двух детей. Здесь показатель доли невозврата остановился на отметке 9,2 и 9,4 процентов соответственно. Последние две категории сравнивать некорректно по причине маленкой выборки.\n"
   ]
  },
  {
   "cell_type": "markdown",
   "id": "74c9b3a7",
   "metadata": {
    "deletable": false,
    "editable": false,
    "id": "74c9b3a7"
   },
   "source": [
    "#### 3.2 Есть ли зависимость между семейным положением и возвратом кредита в срок?"
   ]
  },
  {
   "cell_type": "code",
   "execution_count": 23,
   "id": "8098ab3b",
   "metadata": {
    "deletable": false,
    "id": "8098ab3b"
   },
   "outputs": [
    {
     "data": {
      "text/html": [
       "<div>\n",
       "<style scoped>\n",
       "    .dataframe tbody tr th:only-of-type {\n",
       "        vertical-align: middle;\n",
       "    }\n",
       "\n",
       "    .dataframe tbody tr th {\n",
       "        vertical-align: top;\n",
       "    }\n",
       "\n",
       "    .dataframe thead th {\n",
       "        text-align: right;\n",
       "    }\n",
       "</style>\n",
       "<table border=\"1\" class=\"dataframe\">\n",
       "  <thead>\n",
       "    <tr style=\"text-align: right;\">\n",
       "      <th></th>\n",
       "      <th>count</th>\n",
       "      <th>mean</th>\n",
       "      <th>sum</th>\n",
       "      <th>solvency</th>\n",
       "    </tr>\n",
       "    <tr>\n",
       "      <th>family_status</th>\n",
       "      <th></th>\n",
       "      <th></th>\n",
       "      <th></th>\n",
       "      <th></th>\n",
       "    </tr>\n",
       "  </thead>\n",
       "  <tbody>\n",
       "    <tr>\n",
       "      <th>Не женат / не замужем</th>\n",
       "      <td>2796.0</td>\n",
       "      <td>9.763948</td>\n",
       "      <td>273.0</td>\n",
       "      <td>низкая платежеспособность клиента</td>\n",
       "    </tr>\n",
       "    <tr>\n",
       "      <th>в разводе</th>\n",
       "      <td>1189.0</td>\n",
       "      <td>7.064760</td>\n",
       "      <td>84.0</td>\n",
       "      <td>высокая платежеспособность клиента</td>\n",
       "    </tr>\n",
       "    <tr>\n",
       "      <th>вдовец / вдова</th>\n",
       "      <td>951.0</td>\n",
       "      <td>6.624606</td>\n",
       "      <td>63.0</td>\n",
       "      <td>высокая платежеспособность клиента</td>\n",
       "    </tr>\n",
       "    <tr>\n",
       "      <th>гражданский брак</th>\n",
       "      <td>4134.0</td>\n",
       "      <td>9.313014</td>\n",
       "      <td>385.0</td>\n",
       "      <td>низкая платежеспособность клиента</td>\n",
       "    </tr>\n",
       "    <tr>\n",
       "      <th>женат / замужем</th>\n",
       "      <td>12261.0</td>\n",
       "      <td>7.560558</td>\n",
       "      <td>927.0</td>\n",
       "      <td>высокая платежеспособность клиента</td>\n",
       "    </tr>\n",
       "  </tbody>\n",
       "</table>\n",
       "</div>"
      ],
      "text/plain": [
       "                         count      mean    sum  \\\n",
       "family_status                                     \n",
       "Не женат / не замужем   2796.0  9.763948  273.0   \n",
       "в разводе               1189.0  7.064760   84.0   \n",
       "вдовец / вдова           951.0  6.624606   63.0   \n",
       "гражданский брак        4134.0  9.313014  385.0   \n",
       "женат / замужем        12261.0  7.560558  927.0   \n",
       "\n",
       "                                                 solvency  \n",
       "family_status                                              \n",
       "Не женат / не замужем   низкая платежеспособность клиента  \n",
       "в разводе              высокая платежеспособность клиента  \n",
       "вдовец / вдова         высокая платежеспособность клиента  \n",
       "гражданский брак        низкая платежеспособность клиента  \n",
       "женат / замужем        высокая платежеспособность клиента  "
      ]
     },
     "execution_count": 23,
     "metadata": {},
     "output_type": "execute_result"
    }
   ],
   "source": [
    "# Ваш код будет здесь. Вы можете создавать новые ячейки.\n",
    "famstatus_debt=data.pivot_table(index = ['family_status'], values = 'debt', aggfunc={'count','sum', 'mean'})\n",
    "famstatus_debt['mean']=famstatus_debt['mean']*100\n",
    "#print(famstatus_debt)\n",
    "\n",
    "def solvency_function(rows):\n",
    "    mean=rows['mean']\n",
    "    if mean<8:\n",
    "        return 'высокая платежеспособность клиента'\n",
    "    if mean>8 and mean<9:\n",
    "        return 'умеренная платежеспособность клиента'\n",
    "    return 'низкая платежеспособность клиента'\n",
    "famstatus_debt['solvency']=famstatus_debt.apply(solvency_function, axis=1)\n",
    "famstatus_debt "
   ]
  },
  {
   "cell_type": "markdown",
   "id": "c389ca63",
   "metadata": {
    "deletable": false,
    "id": "c389ca63"
   },
   "source": [
    "**Вывод:** Исходя из составленной сводной таблицы можно сделать вывод, что лучше всего отдают кредит категория клиентов: вдовец/вдова (доля должников 6,6%). Однако здесь, равно как и в категории клиентов, находящихся в разводе имеет место нарушение сбалансированночти выборки в отличии от остальных категорий, следовательно засчитать вышеуказанные показатели будет неверно. Исходя из этого лучший показатель у катеогории женатых и замужних заемщиков (доля должников около 7,5 процентов). Хуже обстоят дела с категориями заемщиков, состоящих в гражданском браке, а также не женатых и не замужних с показателями должников в 9,3 и 9,8 процентов соответственно.  "
   ]
  },
  {
   "cell_type": "markdown",
   "id": "9529de68",
   "metadata": {
    "deletable": false,
    "editable": false,
    "id": "9529de68"
   },
   "source": [
    "#### 3.3 Есть ли зависимость между уровнем дохода и возвратом кредита в срок?"
   ]
  },
  {
   "cell_type": "code",
   "execution_count": 24,
   "id": "8787f44a",
   "metadata": {
    "deletable": false,
    "id": "8787f44a"
   },
   "outputs": [
    {
     "data": {
      "text/html": [
       "<div>\n",
       "<style scoped>\n",
       "    .dataframe tbody tr th:only-of-type {\n",
       "        vertical-align: middle;\n",
       "    }\n",
       "\n",
       "    .dataframe tbody tr th {\n",
       "        vertical-align: top;\n",
       "    }\n",
       "\n",
       "    .dataframe thead th {\n",
       "        text-align: right;\n",
       "    }\n",
       "</style>\n",
       "<table border=\"1\" class=\"dataframe\">\n",
       "  <thead>\n",
       "    <tr style=\"text-align: right;\">\n",
       "      <th></th>\n",
       "      <th>count</th>\n",
       "      <th>mean</th>\n",
       "      <th>sum</th>\n",
       "      <th>solvency</th>\n",
       "    </tr>\n",
       "    <tr>\n",
       "      <th>total_income_category</th>\n",
       "      <th></th>\n",
       "      <th></th>\n",
       "      <th></th>\n",
       "      <th></th>\n",
       "    </tr>\n",
       "  </thead>\n",
       "  <tbody>\n",
       "    <tr>\n",
       "      <th>A</th>\n",
       "      <td>25.0</td>\n",
       "      <td>8.000000</td>\n",
       "      <td>2.0</td>\n",
       "      <td>низкая платежеспособность клиента</td>\n",
       "    </tr>\n",
       "    <tr>\n",
       "      <th>B</th>\n",
       "      <td>5014.0</td>\n",
       "      <td>7.060231</td>\n",
       "      <td>354.0</td>\n",
       "      <td>высокая платежеспособность клиента</td>\n",
       "    </tr>\n",
       "    <tr>\n",
       "      <th>C</th>\n",
       "      <td>15921.0</td>\n",
       "      <td>8.498210</td>\n",
       "      <td>1353.0</td>\n",
       "      <td>умеренная платежеспособность клиента</td>\n",
       "    </tr>\n",
       "    <tr>\n",
       "      <th>D</th>\n",
       "      <td>349.0</td>\n",
       "      <td>6.017192</td>\n",
       "      <td>21.0</td>\n",
       "      <td>высокая платежеспособность клиента</td>\n",
       "    </tr>\n",
       "    <tr>\n",
       "      <th>E</th>\n",
       "      <td>22.0</td>\n",
       "      <td>9.090909</td>\n",
       "      <td>2.0</td>\n",
       "      <td>низкая платежеспособность клиента</td>\n",
       "    </tr>\n",
       "  </tbody>\n",
       "</table>\n",
       "</div>"
      ],
      "text/plain": [
       "                         count      mean     sum  \\\n",
       "total_income_category                              \n",
       "A                         25.0  8.000000     2.0   \n",
       "B                       5014.0  7.060231   354.0   \n",
       "C                      15921.0  8.498210  1353.0   \n",
       "D                        349.0  6.017192    21.0   \n",
       "E                         22.0  9.090909     2.0   \n",
       "\n",
       "                                                   solvency  \n",
       "total_income_category                                        \n",
       "A                         низкая платежеспособность клиента  \n",
       "B                        высокая платежеспособность клиента  \n",
       "C                      умеренная платежеспособность клиента  \n",
       "D                        высокая платежеспособность клиента  \n",
       "E                         низкая платежеспособность клиента  "
      ]
     },
     "execution_count": 24,
     "metadata": {},
     "output_type": "execute_result"
    }
   ],
   "source": [
    "# Ваш код будет здесь. Вы можете создавать новые ячейки.\n",
    "\n",
    "total_income_debt=data.pivot_table(index = ['total_income_category'], values = 'debt', aggfunc={'count','sum', 'mean'})\n",
    "total_income_debt['mean']=total_income_debt['mean']*100\n",
    "#print(total_income_debt)\n",
    "\n",
    "def solvency_function(rows):\n",
    "    mean=rows['mean']\n",
    "    if mean<8:\n",
    "        return 'высокая платежеспособность клиента'\n",
    "    if mean>8 and mean<9:\n",
    "        return 'умеренная платежеспособность клиента'\n",
    "    return 'низкая платежеспособность клиента'\n",
    "total_income_debt['solvency']=total_income_debt.apply(solvency_function, axis=1)\n",
    "total_income_debt\n",
    "\n",
    "#0–30000 — 'E';\n",
    "#30001–50000 — 'D';\n",
    "#50001–200000 — 'C';\n",
    "#200001–1000000 — 'B';\n",
    "#1000001 и выше — 'A'."
   ]
  },
  {
   "cell_type": "markdown",
   "id": "6dd14b57",
   "metadata": {
    "deletable": false,
    "id": "6dd14b57"
   },
   "source": [
    "**Вывод:** Наиболее целесообразным итогом проведения анализа зависимости между уровнем дохода и возвратом кредита в срок можно считать сравнение, ввиду соответствующей анализу выборки категорий B и C. \n",
    "Категория заемщиков, имеющая доход, в промежутке между 200 001 и 1 000 000 рублей имеет высокий показатель платежеспособности с долей должников в 7,1 процента. Умеренный показатель имеет категория людей с доходами в 50 001-200 000 тысяч рублей. С учетом маленькой выборки, исходя из анализа, лучший показатель платежеспособности имеют клиенты с более высоким заработком.  "
   ]
  },
  {
   "cell_type": "markdown",
   "id": "1dcc9b12",
   "metadata": {
    "deletable": false,
    "editable": false,
    "id": "1dcc9b12"
   },
   "source": [
    "#### 3.4 Как разные цели кредита влияют на его возврат в срок?"
   ]
  },
  {
   "cell_type": "code",
   "execution_count": 25,
   "id": "c602bc8b",
   "metadata": {
    "deletable": false,
    "id": "c602bc8b"
   },
   "outputs": [
    {
     "data": {
      "text/html": [
       "<div>\n",
       "<style scoped>\n",
       "    .dataframe tbody tr th:only-of-type {\n",
       "        vertical-align: middle;\n",
       "    }\n",
       "\n",
       "    .dataframe tbody tr th {\n",
       "        vertical-align: top;\n",
       "    }\n",
       "\n",
       "    .dataframe thead th {\n",
       "        text-align: right;\n",
       "    }\n",
       "</style>\n",
       "<table border=\"1\" class=\"dataframe\">\n",
       "  <thead>\n",
       "    <tr style=\"text-align: right;\">\n",
       "      <th></th>\n",
       "      <th>count</th>\n",
       "      <th>mean</th>\n",
       "      <th>sum</th>\n",
       "      <th>solvency</th>\n",
       "    </tr>\n",
       "    <tr>\n",
       "      <th>purpose_category</th>\n",
       "      <th></th>\n",
       "      <th></th>\n",
       "      <th></th>\n",
       "      <th></th>\n",
       "    </tr>\n",
       "  </thead>\n",
       "  <tbody>\n",
       "    <tr>\n",
       "      <th>операции с автомобилем</th>\n",
       "      <td>4279.0</td>\n",
       "      <td>9.347978</td>\n",
       "      <td>400.0</td>\n",
       "      <td>низкая платежеспособность клиента</td>\n",
       "    </tr>\n",
       "    <tr>\n",
       "      <th>операции с недвижимостью</th>\n",
       "      <td>10751.0</td>\n",
       "      <td>7.255139</td>\n",
       "      <td>780.0</td>\n",
       "      <td>высокая платежеспособность клиента</td>\n",
       "    </tr>\n",
       "    <tr>\n",
       "      <th>получение образования</th>\n",
       "      <td>3988.0</td>\n",
       "      <td>9.252758</td>\n",
       "      <td>369.0</td>\n",
       "      <td>низкая платежеспособность клиента</td>\n",
       "    </tr>\n",
       "    <tr>\n",
       "      <th>проведение свадьбы</th>\n",
       "      <td>2313.0</td>\n",
       "      <td>7.911803</td>\n",
       "      <td>183.0</td>\n",
       "      <td>высокая платежеспособность клиента</td>\n",
       "    </tr>\n",
       "  </tbody>\n",
       "</table>\n",
       "</div>"
      ],
      "text/plain": [
       "                            count      mean    sum  \\\n",
       "purpose_category                                     \n",
       "операции с автомобилем     4279.0  9.347978  400.0   \n",
       "операции с недвижимостью  10751.0  7.255139  780.0   \n",
       "получение образования      3988.0  9.252758  369.0   \n",
       "проведение свадьбы         2313.0  7.911803  183.0   \n",
       "\n",
       "                                                    solvency  \n",
       "purpose_category                                              \n",
       "операции с автомобилем     низкая платежеспособность клиента  \n",
       "операции с недвижимостью  высокая платежеспособность клиента  \n",
       "получение образования      низкая платежеспособность клиента  \n",
       "проведение свадьбы        высокая платежеспособность клиента  "
      ]
     },
     "execution_count": 25,
     "metadata": {},
     "output_type": "execute_result"
    }
   ],
   "source": [
    "# Ваш код будет здесь. Вы можете создавать новые ячейки.\n",
    "\n",
    "purpose_debt=data.pivot_table(index = ['purpose_category'], values = 'debt', aggfunc={'count','sum', 'mean'})\n",
    "purpose_debt['mean']=purpose_debt['mean']*100\n",
    "#print(purpose_debt)\n",
    "\n",
    "def solvency_function(rows):\n",
    "    mean=rows['mean']\n",
    "    if mean<8:\n",
    "        return 'высокая платежеспособность клиента'\n",
    "    if mean>8 and mean<9:\n",
    "        return 'умеренная платежеспособность клиента'\n",
    "    return 'низкая платежеспособность клиента'\n",
    "purpose_debt['solvency']=purpose_debt.apply(solvency_function, axis=1)\n",
    "purpose_debt"
   ]
  },
  {
   "cell_type": "markdown",
   "id": "cf05ed63",
   "metadata": {
    "deletable": false,
    "id": "cf05ed63"
   },
   "source": [
    "**Вывод:** Исходя из составленной сводной таблицы можно сделать вывод, что низкая платежеспособность клиента (9,3 и 9,2 процентов должников соответственно), наблюдаль у клиентов, целью кредита которых являлись: операции с автомобилем и получение образования. Высокая платежеспособность с долей должников в 7,9 процентов выявилась у клиентов, бравших кредит проведение свадьбы. Лучший результат показали клиенты, бравшие кредит на операции с недвижимостью. Здесь, лишь 7,2 процентов заемщиков имели проблемы с возвратом кредита в срок. Высокий показатель может быть связана с залоговой составляющей клиентов. "
   ]
  },
  {
   "cell_type": "markdown",
   "id": "46c1f10b",
   "metadata": {
    "deletable": false,
    "editable": false,
    "id": "46c1f10b"
   },
   "source": [
    "#### 3.5 Приведите возможные причины появления пропусков в исходных данных."
   ]
  },
  {
   "cell_type": "markdown",
   "id": "3697d2a9",
   "metadata": {
    "deletable": false,
    "id": "3697d2a9"
   },
   "source": [
    "*Ответ:* Пропуски, выявленные в таблице в целом можно считать неслучайными, виной тому нежелание клиента указывать свой ежемесячный доход, а в случае с общим трудовым стажем, вероятней всего - отствутсвие точных сведений на момент заполнения данных либо же и вовсе его отсутствие. \n",
    "Одной из причин отсутствия данных можно считать техническую ошибку при выгрузке материала."
   ]
  },
  {
   "cell_type": "markdown",
   "id": "3137d257",
   "metadata": {
    "deletable": false,
    "editable": false,
    "id": "3137d257"
   },
   "source": [
    "#### 3.6 Объясните, почему заполнить пропуски медианным значением — лучшее решение для количественных переменных."
   ]
  },
  {
   "cell_type": "markdown",
   "id": "cf40012a",
   "metadata": {
    "deletable": false,
    "id": "cf40012a"
   },
   "source": [
    "*Ответ:* Ввиду больших разбросов в показателях наиболее целесообразно было использовать медиану."
   ]
  },
  {
   "cell_type": "markdown",
   "id": "57bc304e",
   "metadata": {
    "deletable": false,
    "editable": false,
    "id": "57bc304e"
   },
   "source": [
    "### Шаг 4: общий вывод."
   ]
  },
  {
   "cell_type": "markdown",
   "id": "1ab75d1c",
   "metadata": {
    "deletable": false,
    "id": "1ab75d1c"
   },
   "source": [
    "Исходя из проведенного анализа можно составить портрет двух заемщиков один из которых будет иметь проблемы с возвратом кредита в срок. \n",
    "Исходя из составленной сводной таблицы можно сделать вывод, что к первому портрету (имеющий проблемы с возвратом кредита в срок) подойдет заемщик: имеющий одного и двух детей (показатель доли невозврата 9,2 и 9,4 процентов соответственно), как правило имеющий доходам в 50 001-200 000 тысяч рублей, целью кредита которого являлись: операции с автомобилем (доля должников-9,3 процента) и получение образования (9,2 процента).\n",
    "Лучше всего отдает кредит клиент, не имеющий детей (доля должников 7,5%) с доходом, в промежутке между 200 001 и 1 000 000 рублей, целью кредита которого являлись операции с недвижимостью\n",
    "Этот результат мог оказаться иным, если бы не пропуски в данных. Поэтому для более точного анализа необходимо все-таки запрашивать у клиентов заполнение всех пропущенных полей либо же, в случае отсутсвия данных *соответсвующим образом это отмечать*. "
   ]
  }
 ],
 "metadata": {
  "ExecuteTimeLog": [
   {
    "duration": 51,
    "start_time": "2023-03-13T21:52:50.224Z"
   },
   {
    "duration": 14,
    "start_time": "2023-03-13T21:53:10.008Z"
   },
   {
    "duration": 9,
    "start_time": "2023-03-13T21:53:30.033Z"
   },
   {
    "duration": 560,
    "start_time": "2023-03-13T21:53:38.978Z"
   },
   {
    "duration": 24,
    "start_time": "2023-03-13T21:53:39.540Z"
   },
   {
    "duration": 23,
    "start_time": "2023-03-13T21:53:39.566Z"
   },
   {
    "duration": 51,
    "start_time": "2023-03-13T21:53:39.591Z"
   },
   {
    "duration": 34,
    "start_time": "2023-03-13T21:53:39.644Z"
   },
   {
    "duration": 10,
    "start_time": "2023-03-13T21:53:39.686Z"
   },
   {
    "duration": 48,
    "start_time": "2023-03-13T21:53:39.701Z"
   },
   {
    "duration": 6,
    "start_time": "2023-03-13T21:53:39.751Z"
   },
   {
    "duration": 12,
    "start_time": "2023-03-13T21:53:39.759Z"
   },
   {
    "duration": 35,
    "start_time": "2023-03-13T21:53:39.775Z"
   },
   {
    "duration": 64,
    "start_time": "2023-03-13T21:53:39.814Z"
   },
   {
    "duration": 20,
    "start_time": "2023-03-13T21:53:39.880Z"
   },
   {
    "duration": 40,
    "start_time": "2023-03-13T21:53:39.905Z"
   },
   {
    "duration": 24,
    "start_time": "2023-03-13T21:53:39.947Z"
   },
   {
    "duration": 84,
    "start_time": "2023-03-13T21:53:39.973Z"
   },
   {
    "duration": 29,
    "start_time": "2023-03-13T21:53:40.059Z"
   },
   {
    "duration": 5,
    "start_time": "2023-03-13T21:53:40.091Z"
   },
   {
    "duration": 46,
    "start_time": "2023-03-13T21:53:40.098Z"
   },
   {
    "duration": 21,
    "start_time": "2023-03-13T21:53:40.146Z"
   },
   {
    "duration": 4,
    "start_time": "2023-03-13T21:53:40.169Z"
   },
   {
    "duration": 59,
    "start_time": "2023-03-13T21:53:40.174Z"
   },
   {
    "duration": 12,
    "start_time": "2023-03-13T21:53:40.236Z"
   },
   {
    "duration": 20,
    "start_time": "2023-03-13T21:53:40.250Z"
   },
   {
    "duration": 67,
    "start_time": "2023-03-13T21:53:40.272Z"
   },
   {
    "duration": 5,
    "start_time": "2023-03-13T21:53:40.341Z"
   },
   {
    "duration": 98,
    "start_time": "2023-03-14T19:33:01.355Z"
   },
   {
    "duration": 44,
    "start_time": "2023-03-14T19:34:47.975Z"
   },
   {
    "duration": 568,
    "start_time": "2023-03-14T19:34:59.604Z"
   },
   {
    "duration": 24,
    "start_time": "2023-03-14T19:35:00.174Z"
   },
   {
    "duration": 27,
    "start_time": "2023-03-14T19:35:00.199Z"
   },
   {
    "duration": 37,
    "start_time": "2023-03-14T19:35:00.228Z"
   },
   {
    "duration": 71,
    "start_time": "2023-03-14T19:35:00.266Z"
   },
   {
    "duration": 5,
    "start_time": "2023-03-14T19:35:00.339Z"
   },
   {
    "duration": 22,
    "start_time": "2023-03-14T19:35:00.346Z"
   },
   {
    "duration": 19,
    "start_time": "2023-03-14T19:35:00.370Z"
   },
   {
    "duration": 73,
    "start_time": "2023-03-14T19:35:00.391Z"
   },
   {
    "duration": 32,
    "start_time": "2023-03-14T19:35:00.467Z"
   },
   {
    "duration": 67,
    "start_time": "2023-03-14T19:35:00.500Z"
   },
   {
    "duration": 13,
    "start_time": "2023-03-14T19:35:00.569Z"
   },
   {
    "duration": 43,
    "start_time": "2023-03-14T19:35:00.584Z"
   },
   {
    "duration": 50,
    "start_time": "2023-03-14T19:35:00.629Z"
   },
   {
    "duration": 62,
    "start_time": "2023-03-14T19:35:00.681Z"
   },
   {
    "duration": 38,
    "start_time": "2023-03-14T19:35:00.744Z"
   },
   {
    "duration": 12,
    "start_time": "2023-03-14T19:35:00.784Z"
   },
   {
    "duration": 45,
    "start_time": "2023-03-14T19:35:00.798Z"
   },
   {
    "duration": 45,
    "start_time": "2023-03-14T19:35:00.845Z"
   },
   {
    "duration": 50,
    "start_time": "2023-03-14T19:35:00.892Z"
   },
   {
    "duration": 67,
    "start_time": "2023-03-14T19:35:00.944Z"
   },
   {
    "duration": 48,
    "start_time": "2023-03-14T19:35:01.013Z"
   },
   {
    "duration": 25,
    "start_time": "2023-03-14T19:35:01.063Z"
   },
   {
    "duration": 24,
    "start_time": "2023-03-14T19:35:01.089Z"
   },
   {
    "duration": 39,
    "start_time": "2023-03-14T19:35:01.115Z"
   },
   {
    "duration": 93,
    "start_time": "2023-03-14T19:50:23.773Z"
   },
   {
    "duration": 16,
    "start_time": "2023-03-14T19:50:44.783Z"
   },
   {
    "duration": 1184,
    "start_time": "2023-03-14T21:01:43.619Z"
   },
   {
    "duration": 1198,
    "start_time": "2023-03-14T21:01:48.005Z"
   },
   {
    "duration": 432,
    "start_time": "2023-03-14T21:01:56.155Z"
   },
   {
    "duration": 21,
    "start_time": "2023-03-14T21:01:56.589Z"
   },
   {
    "duration": 14,
    "start_time": "2023-03-14T21:01:56.612Z"
   },
   {
    "duration": 16,
    "start_time": "2023-03-14T21:01:56.628Z"
   },
   {
    "duration": 42,
    "start_time": "2023-03-14T21:01:56.645Z"
   },
   {
    "duration": 3,
    "start_time": "2023-03-14T21:01:56.689Z"
   },
   {
    "duration": 11,
    "start_time": "2023-03-14T21:01:56.693Z"
   },
   {
    "duration": 4,
    "start_time": "2023-03-14T21:01:56.705Z"
   },
   {
    "duration": 13,
    "start_time": "2023-03-14T21:01:56.711Z"
   },
   {
    "duration": 8,
    "start_time": "2023-03-14T21:01:56.726Z"
   },
   {
    "duration": 57,
    "start_time": "2023-03-14T21:01:56.735Z"
   },
   {
    "duration": 9,
    "start_time": "2023-03-14T21:01:56.794Z"
   },
   {
    "duration": 23,
    "start_time": "2023-03-14T21:01:56.804Z"
   },
   {
    "duration": 17,
    "start_time": "2023-03-14T21:01:56.829Z"
   },
   {
    "duration": 23,
    "start_time": "2023-03-14T21:01:56.847Z"
   },
   {
    "duration": 17,
    "start_time": "2023-03-14T21:01:56.872Z"
   },
   {
    "duration": 4,
    "start_time": "2023-03-14T21:01:56.890Z"
   },
   {
    "duration": 26,
    "start_time": "2023-03-14T21:01:56.895Z"
   },
   {
    "duration": 7,
    "start_time": "2023-03-14T21:01:56.923Z"
   },
   {
    "duration": 4,
    "start_time": "2023-03-14T21:01:56.931Z"
   },
   {
    "duration": 18,
    "start_time": "2023-03-14T21:01:56.936Z"
   },
   {
    "duration": 1176,
    "start_time": "2023-03-14T21:01:56.956Z"
   },
   {
    "duration": 0,
    "start_time": "2023-03-14T21:01:58.134Z"
   },
   {
    "duration": 0,
    "start_time": "2023-03-14T21:01:58.135Z"
   },
   {
    "duration": 0,
    "start_time": "2023-03-14T21:01:58.136Z"
   },
   {
    "duration": 17,
    "start_time": "2023-03-14T21:03:56.241Z"
   },
   {
    "duration": 35,
    "start_time": "2023-03-14T21:29:17.737Z"
   },
   {
    "duration": 1238,
    "start_time": "2023-03-14T21:29:52.116Z"
   },
   {
    "duration": 507,
    "start_time": "2023-03-14T21:30:01.093Z"
   },
   {
    "duration": 23,
    "start_time": "2023-03-14T21:30:01.602Z"
   },
   {
    "duration": 16,
    "start_time": "2023-03-14T21:30:01.626Z"
   },
   {
    "duration": 14,
    "start_time": "2023-03-14T21:30:01.644Z"
   },
   {
    "duration": 32,
    "start_time": "2023-03-14T21:30:01.660Z"
   },
   {
    "duration": 4,
    "start_time": "2023-03-14T21:30:01.694Z"
   },
   {
    "duration": 31,
    "start_time": "2023-03-14T21:30:01.700Z"
   },
   {
    "duration": 28,
    "start_time": "2023-03-14T21:30:01.733Z"
   },
   {
    "duration": 11,
    "start_time": "2023-03-14T21:30:01.762Z"
   },
   {
    "duration": 33,
    "start_time": "2023-03-14T21:30:01.775Z"
   },
   {
    "duration": 65,
    "start_time": "2023-03-14T21:30:01.810Z"
   },
   {
    "duration": 10,
    "start_time": "2023-03-14T21:30:01.876Z"
   },
   {
    "duration": 31,
    "start_time": "2023-03-14T21:30:01.887Z"
   },
   {
    "duration": 14,
    "start_time": "2023-03-14T21:30:01.920Z"
   },
   {
    "duration": 82,
    "start_time": "2023-03-14T21:30:01.936Z"
   },
   {
    "duration": 56,
    "start_time": "2023-03-14T21:30:02.020Z"
   },
   {
    "duration": 4,
    "start_time": "2023-03-14T21:30:02.077Z"
   },
   {
    "duration": 39,
    "start_time": "2023-03-14T21:30:02.082Z"
   },
   {
    "duration": 18,
    "start_time": "2023-03-14T21:30:02.123Z"
   },
   {
    "duration": 48,
    "start_time": "2023-03-14T21:30:02.143Z"
   },
   {
    "duration": 62,
    "start_time": "2023-03-14T21:30:02.193Z"
   },
   {
    "duration": 1653,
    "start_time": "2023-03-14T21:30:02.257Z"
   },
   {
    "duration": 0,
    "start_time": "2023-03-14T21:30:03.912Z"
   },
   {
    "duration": 0,
    "start_time": "2023-03-14T21:30:03.913Z"
   },
   {
    "duration": 0,
    "start_time": "2023-03-14T21:30:03.914Z"
   },
   {
    "duration": 1260,
    "start_time": "2023-03-14T21:30:45.231Z"
   },
   {
    "duration": 22,
    "start_time": "2023-03-14T21:32:27.603Z"
   },
   {
    "duration": 27,
    "start_time": "2023-03-14T21:33:06.502Z"
   },
   {
    "duration": 20,
    "start_time": "2023-03-14T21:33:33.302Z"
   },
   {
    "duration": 1446,
    "start_time": "2023-03-14T21:33:44.474Z"
   },
   {
    "duration": 1403,
    "start_time": "2023-03-14T21:33:51.380Z"
   },
   {
    "duration": 22,
    "start_time": "2023-03-14T21:34:14.963Z"
   },
   {
    "duration": 17,
    "start_time": "2023-03-14T21:48:18.266Z"
   },
   {
    "duration": 20,
    "start_time": "2023-03-14T21:49:21.034Z"
   },
   {
    "duration": 153,
    "start_time": "2023-03-14T22:01:43.426Z"
   },
   {
    "duration": 22,
    "start_time": "2023-03-14T22:03:02.622Z"
   },
   {
    "duration": 22,
    "start_time": "2023-03-14T22:03:24.735Z"
   },
   {
    "duration": 16,
    "start_time": "2023-03-14T22:03:52.667Z"
   },
   {
    "duration": 23,
    "start_time": "2023-03-14T22:05:16.641Z"
   },
   {
    "duration": 1259,
    "start_time": "2023-03-14T22:11:12.682Z"
   },
   {
    "duration": 68,
    "start_time": "2023-03-14T22:14:23.890Z"
   },
   {
    "duration": 1307,
    "start_time": "2023-03-14T22:15:21.769Z"
   },
   {
    "duration": 1273,
    "start_time": "2023-03-14T22:17:00.071Z"
   },
   {
    "duration": 54,
    "start_time": "2023-03-15T08:03:25.420Z"
   },
   {
    "duration": 10,
    "start_time": "2023-03-15T08:04:08.800Z"
   },
   {
    "duration": 710,
    "start_time": "2023-03-15T08:05:26.906Z"
   },
   {
    "duration": 25,
    "start_time": "2023-03-15T08:05:27.618Z"
   },
   {
    "duration": 17,
    "start_time": "2023-03-15T08:05:27.645Z"
   },
   {
    "duration": 11,
    "start_time": "2023-03-15T08:05:27.664Z"
   },
   {
    "duration": 41,
    "start_time": "2023-03-15T08:05:27.677Z"
   },
   {
    "duration": 4,
    "start_time": "2023-03-15T08:05:27.720Z"
   },
   {
    "duration": 14,
    "start_time": "2023-03-15T08:05:27.726Z"
   },
   {
    "duration": 24,
    "start_time": "2023-03-15T08:05:27.742Z"
   },
   {
    "duration": 13,
    "start_time": "2023-03-15T08:05:27.768Z"
   },
   {
    "duration": 5,
    "start_time": "2023-03-15T08:05:27.783Z"
   },
   {
    "duration": 40,
    "start_time": "2023-03-15T08:05:27.790Z"
   },
   {
    "duration": 32,
    "start_time": "2023-03-15T08:05:27.832Z"
   },
   {
    "duration": 11,
    "start_time": "2023-03-15T08:05:27.866Z"
   },
   {
    "duration": 29,
    "start_time": "2023-03-15T08:05:27.879Z"
   },
   {
    "duration": 29,
    "start_time": "2023-03-15T08:05:27.910Z"
   },
   {
    "duration": 20,
    "start_time": "2023-03-15T08:05:27.941Z"
   },
   {
    "duration": 4,
    "start_time": "2023-03-15T08:05:27.963Z"
   },
   {
    "duration": 21,
    "start_time": "2023-03-15T08:05:27.969Z"
   },
   {
    "duration": 19,
    "start_time": "2023-03-15T08:05:27.992Z"
   },
   {
    "duration": 11,
    "start_time": "2023-03-15T08:05:28.013Z"
   },
   {
    "duration": 35,
    "start_time": "2023-03-15T08:05:28.026Z"
   },
   {
    "duration": 29,
    "start_time": "2023-03-15T08:05:28.063Z"
   },
   {
    "duration": 24,
    "start_time": "2023-03-15T08:05:28.094Z"
   },
   {
    "duration": 1711,
    "start_time": "2023-03-15T08:05:28.120Z"
   },
   {
    "duration": 0,
    "start_time": "2023-03-15T08:05:29.833Z"
   },
   {
    "duration": 865,
    "start_time": "2023-03-15T08:06:49.349Z"
   },
   {
    "duration": 811,
    "start_time": "2023-03-15T08:08:22.823Z"
   },
   {
    "duration": 1115,
    "start_time": "2023-03-15T08:10:08.176Z"
   },
   {
    "duration": 1051,
    "start_time": "2023-03-15T08:12:08.124Z"
   },
   {
    "duration": 32,
    "start_time": "2023-03-15T08:17:15.055Z"
   },
   {
    "duration": 26,
    "start_time": "2023-03-15T08:17:48.177Z"
   },
   {
    "duration": 1048,
    "start_time": "2023-03-15T08:19:04.313Z"
   },
   {
    "duration": 83,
    "start_time": "2023-03-15T09:47:40.049Z"
   },
   {
    "duration": 12,
    "start_time": "2023-03-15T09:47:46.717Z"
   },
   {
    "duration": 672,
    "start_time": "2023-03-15T13:17:30.455Z"
   },
   {
    "duration": 28,
    "start_time": "2023-03-15T13:17:31.130Z"
   },
   {
    "duration": 57,
    "start_time": "2023-03-15T13:17:31.160Z"
   },
   {
    "duration": 29,
    "start_time": "2023-03-15T13:17:31.219Z"
   },
   {
    "duration": 62,
    "start_time": "2023-03-15T13:17:31.250Z"
   },
   {
    "duration": 18,
    "start_time": "2023-03-15T13:17:31.314Z"
   },
   {
    "duration": 35,
    "start_time": "2023-03-15T13:17:31.334Z"
   },
   {
    "duration": 45,
    "start_time": "2023-03-15T13:17:31.371Z"
   },
   {
    "duration": 46,
    "start_time": "2023-03-15T13:17:31.417Z"
   },
   {
    "duration": 36,
    "start_time": "2023-03-15T13:17:31.466Z"
   },
   {
    "duration": 61,
    "start_time": "2023-03-15T13:17:31.503Z"
   },
   {
    "duration": 12,
    "start_time": "2023-03-15T13:17:31.566Z"
   },
   {
    "duration": 51,
    "start_time": "2023-03-15T13:17:31.580Z"
   },
   {
    "duration": 54,
    "start_time": "2023-03-15T13:17:31.633Z"
   },
   {
    "duration": 46,
    "start_time": "2023-03-15T13:17:31.689Z"
   },
   {
    "duration": 26,
    "start_time": "2023-03-15T13:17:31.736Z"
   },
   {
    "duration": 9,
    "start_time": "2023-03-15T13:17:31.763Z"
   },
   {
    "duration": 33,
    "start_time": "2023-03-15T13:17:31.773Z"
   },
   {
    "duration": 23,
    "start_time": "2023-03-15T13:17:31.808Z"
   },
   {
    "duration": 31,
    "start_time": "2023-03-15T13:17:31.833Z"
   },
   {
    "duration": 44,
    "start_time": "2023-03-15T13:17:31.866Z"
   },
   {
    "duration": 48,
    "start_time": "2023-03-15T13:17:31.912Z"
   },
   {
    "duration": 24,
    "start_time": "2023-03-15T13:17:31.962Z"
   },
   {
    "duration": 1076,
    "start_time": "2023-03-15T13:17:31.988Z"
   },
   {
    "duration": 0,
    "start_time": "2023-03-15T13:17:33.065Z"
   },
   {
    "duration": 764,
    "start_time": "2023-03-15T13:18:34.983Z"
   },
   {
    "duration": 801,
    "start_time": "2023-03-15T13:18:45.989Z"
   },
   {
    "duration": 763,
    "start_time": "2023-03-15T13:19:10.307Z"
   },
   {
    "duration": 831,
    "start_time": "2023-03-15T13:21:03.088Z"
   },
   {
    "duration": 456,
    "start_time": "2023-03-15T13:23:13.669Z"
   },
   {
    "duration": 25,
    "start_time": "2023-03-15T13:23:14.127Z"
   },
   {
    "duration": 21,
    "start_time": "2023-03-15T13:23:14.153Z"
   },
   {
    "duration": 12,
    "start_time": "2023-03-15T13:23:14.175Z"
   },
   {
    "duration": 56,
    "start_time": "2023-03-15T13:23:14.189Z"
   },
   {
    "duration": 3,
    "start_time": "2023-03-15T13:23:14.247Z"
   },
   {
    "duration": 12,
    "start_time": "2023-03-15T13:23:14.252Z"
   },
   {
    "duration": 10,
    "start_time": "2023-03-15T13:23:14.265Z"
   },
   {
    "duration": 16,
    "start_time": "2023-03-15T13:23:14.276Z"
   },
   {
    "duration": 8,
    "start_time": "2023-03-15T13:23:14.294Z"
   },
   {
    "duration": 46,
    "start_time": "2023-03-15T13:23:14.303Z"
   },
   {
    "duration": 10,
    "start_time": "2023-03-15T13:23:14.351Z"
   },
   {
    "duration": 5,
    "start_time": "2023-03-15T13:23:14.363Z"
   },
   {
    "duration": 17,
    "start_time": "2023-03-15T13:23:14.372Z"
   },
   {
    "duration": 39,
    "start_time": "2023-03-15T13:23:14.391Z"
   },
   {
    "duration": 65,
    "start_time": "2023-03-15T13:23:14.432Z"
   },
   {
    "duration": 3,
    "start_time": "2023-03-15T13:23:14.499Z"
   },
   {
    "duration": 27,
    "start_time": "2023-03-15T13:23:14.504Z"
   },
   {
    "duration": 6,
    "start_time": "2023-03-15T13:23:14.533Z"
   },
   {
    "duration": 8,
    "start_time": "2023-03-15T13:23:14.540Z"
   },
   {
    "duration": 25,
    "start_time": "2023-03-15T13:23:14.549Z"
   },
   {
    "duration": 34,
    "start_time": "2023-03-15T13:23:14.575Z"
   },
   {
    "duration": 29,
    "start_time": "2023-03-15T13:23:14.611Z"
   },
   {
    "duration": 1095,
    "start_time": "2023-03-15T13:23:14.642Z"
   },
   {
    "duration": 0,
    "start_time": "2023-03-15T13:23:15.739Z"
   },
   {
    "duration": 839,
    "start_time": "2023-03-15T13:25:11.138Z"
   },
   {
    "duration": 464,
    "start_time": "2023-03-15T13:29:38.740Z"
   },
   {
    "duration": 23,
    "start_time": "2023-03-15T13:29:39.206Z"
   },
   {
    "duration": 15,
    "start_time": "2023-03-15T13:29:39.230Z"
   },
   {
    "duration": 10,
    "start_time": "2023-03-15T13:29:39.247Z"
   },
   {
    "duration": 47,
    "start_time": "2023-03-15T13:29:39.259Z"
   },
   {
    "duration": 23,
    "start_time": "2023-03-15T13:29:39.308Z"
   },
   {
    "duration": 12,
    "start_time": "2023-03-15T13:29:39.333Z"
   },
   {
    "duration": 9,
    "start_time": "2023-03-15T13:29:39.347Z"
   },
   {
    "duration": 7,
    "start_time": "2023-03-15T13:29:39.358Z"
   },
   {
    "duration": 5,
    "start_time": "2023-03-15T13:29:39.369Z"
   },
   {
    "duration": 56,
    "start_time": "2023-03-15T13:29:39.375Z"
   },
   {
    "duration": 11,
    "start_time": "2023-03-15T13:29:39.432Z"
   },
   {
    "duration": 4,
    "start_time": "2023-03-15T13:29:39.445Z"
   },
   {
    "duration": 15,
    "start_time": "2023-03-15T13:29:39.452Z"
   },
   {
    "duration": 28,
    "start_time": "2023-03-15T13:29:39.469Z"
   },
   {
    "duration": 38,
    "start_time": "2023-03-15T13:29:39.499Z"
   },
   {
    "duration": 3,
    "start_time": "2023-03-15T13:29:39.539Z"
   },
   {
    "duration": 16,
    "start_time": "2023-03-15T13:29:39.544Z"
   },
   {
    "duration": 9,
    "start_time": "2023-03-15T13:29:39.562Z"
   },
   {
    "duration": 6,
    "start_time": "2023-03-15T13:29:39.573Z"
   },
   {
    "duration": 29,
    "start_time": "2023-03-15T13:29:39.580Z"
   },
   {
    "duration": 35,
    "start_time": "2023-03-15T13:29:39.610Z"
   },
   {
    "duration": 21,
    "start_time": "2023-03-15T13:29:39.647Z"
   },
   {
    "duration": 913,
    "start_time": "2023-03-15T13:29:39.670Z"
   },
   {
    "duration": 0,
    "start_time": "2023-03-15T13:29:40.585Z"
   },
   {
    "duration": 765,
    "start_time": "2023-03-15T13:29:48.797Z"
   },
   {
    "duration": 78,
    "start_time": "2023-03-15T17:48:48.740Z"
   },
   {
    "duration": 92,
    "start_time": "2023-03-15T17:49:36.657Z"
   },
   {
    "duration": 48,
    "start_time": "2023-03-15T17:49:53.712Z"
   },
   {
    "duration": 73,
    "start_time": "2023-03-15T17:50:35.615Z"
   },
   {
    "duration": 8,
    "start_time": "2023-03-15T17:50:43.128Z"
   },
   {
    "duration": 8,
    "start_time": "2023-03-15T17:52:43.522Z"
   },
   {
    "duration": 7,
    "start_time": "2023-03-15T17:53:59.527Z"
   },
   {
    "duration": 496,
    "start_time": "2023-03-15T17:54:04.989Z"
   },
   {
    "duration": 23,
    "start_time": "2023-03-15T17:54:05.487Z"
   },
   {
    "duration": 15,
    "start_time": "2023-03-15T17:54:05.511Z"
   },
   {
    "duration": 11,
    "start_time": "2023-03-15T17:54:05.528Z"
   },
   {
    "duration": 41,
    "start_time": "2023-03-15T17:54:05.541Z"
   },
   {
    "duration": 3,
    "start_time": "2023-03-15T17:54:05.584Z"
   },
   {
    "duration": 35,
    "start_time": "2023-03-15T17:54:05.589Z"
   },
   {
    "duration": 15,
    "start_time": "2023-03-15T17:54:05.625Z"
   },
   {
    "duration": 9,
    "start_time": "2023-03-15T17:54:05.641Z"
   },
   {
    "duration": 4,
    "start_time": "2023-03-15T17:54:05.653Z"
   },
   {
    "duration": 31,
    "start_time": "2023-03-15T17:54:05.659Z"
   },
   {
    "duration": 9,
    "start_time": "2023-03-15T17:54:05.692Z"
   },
   {
    "duration": 4,
    "start_time": "2023-03-15T17:54:05.703Z"
   },
   {
    "duration": 18,
    "start_time": "2023-03-15T17:54:05.709Z"
   },
   {
    "duration": 44,
    "start_time": "2023-03-15T17:54:05.728Z"
   },
   {
    "duration": 18,
    "start_time": "2023-03-15T17:54:05.774Z"
   },
   {
    "duration": 3,
    "start_time": "2023-03-15T17:54:05.794Z"
   },
   {
    "duration": 38,
    "start_time": "2023-03-15T17:54:05.799Z"
   },
   {
    "duration": 15,
    "start_time": "2023-03-15T17:54:05.839Z"
   },
   {
    "duration": 4,
    "start_time": "2023-03-15T17:54:05.856Z"
   },
   {
    "duration": 22,
    "start_time": "2023-03-15T17:54:05.863Z"
   },
   {
    "duration": 38,
    "start_time": "2023-03-15T17:54:05.887Z"
   },
   {
    "duration": 18,
    "start_time": "2023-03-15T17:54:05.927Z"
   },
   {
    "duration": 24,
    "start_time": "2023-03-15T17:54:05.946Z"
   },
   {
    "duration": 2,
    "start_time": "2023-03-15T17:54:05.972Z"
   },
   {
    "duration": 25,
    "start_time": "2023-03-15T17:54:09.441Z"
   },
   {
    "duration": 1184,
    "start_time": "2023-03-15T17:54:26.652Z"
   },
   {
    "duration": 22,
    "start_time": "2023-03-15T17:54:44.521Z"
   },
   {
    "duration": 1247,
    "start_time": "2023-03-15T17:55:29.694Z"
   },
   {
    "duration": 73,
    "start_time": "2023-03-15T17:57:06.332Z"
   },
   {
    "duration": 1187,
    "start_time": "2023-03-15T17:57:25.520Z"
   },
   {
    "duration": 2382,
    "start_time": "2023-03-15T17:58:44.546Z"
   },
   {
    "duration": 86,
    "start_time": "2023-03-15T18:02:27.830Z"
   },
   {
    "duration": 474,
    "start_time": "2023-03-15T18:02:42.869Z"
   },
   {
    "duration": 36,
    "start_time": "2023-03-15T18:02:43.345Z"
   },
   {
    "duration": 25,
    "start_time": "2023-03-15T18:02:43.383Z"
   },
   {
    "duration": 21,
    "start_time": "2023-03-15T18:02:43.411Z"
   },
   {
    "duration": 62,
    "start_time": "2023-03-15T18:02:43.435Z"
   },
   {
    "duration": 4,
    "start_time": "2023-03-15T18:02:43.499Z"
   },
   {
    "duration": 14,
    "start_time": "2023-03-15T18:02:43.505Z"
   },
   {
    "duration": 13,
    "start_time": "2023-03-15T18:02:43.520Z"
   },
   {
    "duration": 21,
    "start_time": "2023-03-15T18:02:43.536Z"
   },
   {
    "duration": 5,
    "start_time": "2023-03-15T18:02:43.561Z"
   },
   {
    "duration": 36,
    "start_time": "2023-03-15T18:02:43.567Z"
   },
   {
    "duration": 9,
    "start_time": "2023-03-15T18:02:43.605Z"
   },
   {
    "duration": 6,
    "start_time": "2023-03-15T18:02:43.615Z"
   },
   {
    "duration": 14,
    "start_time": "2023-03-15T18:02:43.652Z"
   },
   {
    "duration": 24,
    "start_time": "2023-03-15T18:02:43.667Z"
   },
   {
    "duration": 19,
    "start_time": "2023-03-15T18:02:43.693Z"
   },
   {
    "duration": 3,
    "start_time": "2023-03-15T18:02:43.715Z"
   },
   {
    "duration": 39,
    "start_time": "2023-03-15T18:02:43.720Z"
   },
   {
    "duration": 23,
    "start_time": "2023-03-15T18:02:43.761Z"
   },
   {
    "duration": 3,
    "start_time": "2023-03-15T18:02:43.786Z"
   },
   {
    "duration": 21,
    "start_time": "2023-03-15T18:02:43.791Z"
   },
   {
    "duration": 28,
    "start_time": "2023-03-15T18:02:43.814Z"
   },
   {
    "duration": 24,
    "start_time": "2023-03-15T18:02:43.854Z"
   },
   {
    "duration": 99,
    "start_time": "2023-03-15T18:02:43.880Z"
   },
   {
    "duration": 0,
    "start_time": "2023-03-15T18:02:43.982Z"
   },
   {
    "duration": 22,
    "start_time": "2023-03-15T18:03:28.102Z"
   },
   {
    "duration": 1277,
    "start_time": "2023-03-15T18:15:36.070Z"
   },
   {
    "duration": 491,
    "start_time": "2023-03-15T18:17:28.703Z"
   },
   {
    "duration": 22,
    "start_time": "2023-03-15T18:17:29.196Z"
   },
   {
    "duration": 16,
    "start_time": "2023-03-15T18:17:29.219Z"
   },
   {
    "duration": 13,
    "start_time": "2023-03-15T18:17:29.252Z"
   },
   {
    "duration": 43,
    "start_time": "2023-03-15T18:17:29.269Z"
   },
   {
    "duration": 4,
    "start_time": "2023-03-15T18:17:29.313Z"
   },
   {
    "duration": 36,
    "start_time": "2023-03-15T18:17:29.319Z"
   },
   {
    "duration": 5,
    "start_time": "2023-03-15T18:17:29.358Z"
   },
   {
    "duration": 13,
    "start_time": "2023-03-15T18:17:29.365Z"
   },
   {
    "duration": 5,
    "start_time": "2023-03-15T18:17:29.380Z"
   },
   {
    "duration": 35,
    "start_time": "2023-03-15T18:17:29.387Z"
   },
   {
    "duration": 35,
    "start_time": "2023-03-15T18:17:29.424Z"
   },
   {
    "duration": 6,
    "start_time": "2023-03-15T18:17:29.461Z"
   },
   {
    "duration": 12,
    "start_time": "2023-03-15T18:17:29.471Z"
   },
   {
    "duration": 24,
    "start_time": "2023-03-15T18:17:29.485Z"
   },
   {
    "duration": 51,
    "start_time": "2023-03-15T18:17:29.511Z"
   },
   {
    "duration": 4,
    "start_time": "2023-03-15T18:17:29.564Z"
   },
   {
    "duration": 12,
    "start_time": "2023-03-15T18:17:29.570Z"
   },
   {
    "duration": 8,
    "start_time": "2023-03-15T18:17:29.583Z"
   },
   {
    "duration": 4,
    "start_time": "2023-03-15T18:17:29.593Z"
   },
   {
    "duration": 19,
    "start_time": "2023-03-15T18:17:29.599Z"
   },
   {
    "duration": 28,
    "start_time": "2023-03-15T18:17:29.652Z"
   },
   {
    "duration": 26,
    "start_time": "2023-03-15T18:17:29.682Z"
   },
   {
    "duration": 1214,
    "start_time": "2023-03-15T18:17:29.712Z"
   },
   {
    "duration": 0,
    "start_time": "2023-03-15T18:17:30.928Z"
   },
   {
    "duration": 23,
    "start_time": "2023-03-15T18:21:58.442Z"
   },
   {
    "duration": 21,
    "start_time": "2023-03-15T18:24:19.584Z"
   },
   {
    "duration": 27,
    "start_time": "2023-03-15T18:27:41.216Z"
   },
   {
    "duration": 24,
    "start_time": "2023-03-15T18:35:13.036Z"
   },
   {
    "duration": 26,
    "start_time": "2023-03-15T18:36:23.604Z"
   },
   {
    "duration": 79,
    "start_time": "2023-03-16T18:43:09.325Z"
   },
   {
    "duration": 73,
    "start_time": "2023-03-16T18:43:12.981Z"
   },
   {
    "duration": 69,
    "start_time": "2023-03-16T18:43:18.540Z"
   },
   {
    "duration": 533,
    "start_time": "2023-03-16T18:48:18.127Z"
   },
   {
    "duration": 23,
    "start_time": "2023-03-16T18:48:18.663Z"
   },
   {
    "duration": 15,
    "start_time": "2023-03-16T18:48:18.687Z"
   },
   {
    "duration": 9,
    "start_time": "2023-03-16T18:48:18.704Z"
   },
   {
    "duration": 37,
    "start_time": "2023-03-16T18:48:18.714Z"
   },
   {
    "duration": 4,
    "start_time": "2023-03-16T18:48:18.753Z"
   },
   {
    "duration": 14,
    "start_time": "2023-03-16T18:48:18.759Z"
   },
   {
    "duration": 5,
    "start_time": "2023-03-16T18:48:18.774Z"
   },
   {
    "duration": 8,
    "start_time": "2023-03-16T18:48:18.780Z"
   },
   {
    "duration": 4,
    "start_time": "2023-03-16T18:48:18.791Z"
   },
   {
    "duration": 33,
    "start_time": "2023-03-16T18:48:18.823Z"
   },
   {
    "duration": 10,
    "start_time": "2023-03-16T18:48:18.858Z"
   },
   {
    "duration": 4,
    "start_time": "2023-03-16T18:48:18.870Z"
   },
   {
    "duration": 12,
    "start_time": "2023-03-16T18:48:18.875Z"
   },
   {
    "duration": 51,
    "start_time": "2023-03-16T18:48:18.889Z"
   },
   {
    "duration": 18,
    "start_time": "2023-03-16T18:48:18.941Z"
   },
   {
    "duration": 4,
    "start_time": "2023-03-16T18:48:18.960Z"
   },
   {
    "duration": 10,
    "start_time": "2023-03-16T18:48:18.966Z"
   },
   {
    "duration": 7,
    "start_time": "2023-03-16T18:48:18.978Z"
   },
   {
    "duration": 5,
    "start_time": "2023-03-16T18:48:18.987Z"
   },
   {
    "duration": 28,
    "start_time": "2023-03-16T18:48:19.024Z"
   },
   {
    "duration": 24,
    "start_time": "2023-03-16T18:48:19.054Z"
   },
   {
    "duration": 50,
    "start_time": "2023-03-16T18:48:19.080Z"
   },
   {
    "duration": 24,
    "start_time": "2023-03-16T18:48:19.132Z"
   },
   {
    "duration": 26,
    "start_time": "2023-03-16T18:48:19.158Z"
   },
   {
    "duration": 80,
    "start_time": "2023-03-16T18:49:02.736Z"
   },
   {
    "duration": 0,
    "start_time": "2023-03-16T18:49:02.818Z"
   },
   {
    "duration": 0,
    "start_time": "2023-03-16T18:49:02.819Z"
   },
   {
    "duration": 0,
    "start_time": "2023-03-16T18:49:02.820Z"
   },
   {
    "duration": 0,
    "start_time": "2023-03-16T18:49:02.821Z"
   },
   {
    "duration": 0,
    "start_time": "2023-03-16T18:49:02.823Z"
   },
   {
    "duration": 0,
    "start_time": "2023-03-16T18:49:02.824Z"
   },
   {
    "duration": 0,
    "start_time": "2023-03-16T18:49:02.825Z"
   },
   {
    "duration": 0,
    "start_time": "2023-03-16T18:49:02.826Z"
   },
   {
    "duration": 0,
    "start_time": "2023-03-16T18:49:02.827Z"
   },
   {
    "duration": 0,
    "start_time": "2023-03-16T18:49:02.828Z"
   },
   {
    "duration": 0,
    "start_time": "2023-03-16T18:49:02.829Z"
   },
   {
    "duration": 0,
    "start_time": "2023-03-16T18:49:02.830Z"
   },
   {
    "duration": 0,
    "start_time": "2023-03-16T18:49:02.831Z"
   },
   {
    "duration": 0,
    "start_time": "2023-03-16T18:49:02.832Z"
   },
   {
    "duration": 0,
    "start_time": "2023-03-16T18:49:02.833Z"
   },
   {
    "duration": 0,
    "start_time": "2023-03-16T18:49:02.835Z"
   },
   {
    "duration": 0,
    "start_time": "2023-03-16T18:49:02.836Z"
   },
   {
    "duration": 0,
    "start_time": "2023-03-16T18:49:02.837Z"
   },
   {
    "duration": 0,
    "start_time": "2023-03-16T18:49:02.838Z"
   },
   {
    "duration": 0,
    "start_time": "2023-03-16T18:49:02.839Z"
   },
   {
    "duration": 0,
    "start_time": "2023-03-16T18:49:02.840Z"
   },
   {
    "duration": 0,
    "start_time": "2023-03-16T18:49:02.841Z"
   },
   {
    "duration": 100,
    "start_time": "2023-03-16T18:49:02.844Z"
   },
   {
    "duration": 0,
    "start_time": "2023-03-16T18:49:02.945Z"
   },
   {
    "duration": 0,
    "start_time": "2023-03-16T18:49:02.946Z"
   },
   {
    "duration": 500,
    "start_time": "2023-03-16T18:49:32.794Z"
   },
   {
    "duration": 24,
    "start_time": "2023-03-16T18:49:33.296Z"
   },
   {
    "duration": 15,
    "start_time": "2023-03-16T18:49:33.323Z"
   },
   {
    "duration": 11,
    "start_time": "2023-03-16T18:49:33.340Z"
   },
   {
    "duration": 40,
    "start_time": "2023-03-16T18:49:33.353Z"
   },
   {
    "duration": 3,
    "start_time": "2023-03-16T18:49:33.395Z"
   },
   {
    "duration": 29,
    "start_time": "2023-03-16T18:49:33.399Z"
   },
   {
    "duration": 10,
    "start_time": "2023-03-16T18:49:33.430Z"
   },
   {
    "duration": 27,
    "start_time": "2023-03-16T18:49:33.442Z"
   },
   {
    "duration": 5,
    "start_time": "2023-03-16T18:49:33.471Z"
   },
   {
    "duration": 33,
    "start_time": "2023-03-16T18:49:33.477Z"
   },
   {
    "duration": 15,
    "start_time": "2023-03-16T18:49:33.512Z"
   },
   {
    "duration": 7,
    "start_time": "2023-03-16T18:49:33.529Z"
   },
   {
    "duration": 16,
    "start_time": "2023-03-16T18:49:33.537Z"
   },
   {
    "duration": 20,
    "start_time": "2023-03-16T18:49:33.555Z"
   },
   {
    "duration": 18,
    "start_time": "2023-03-16T18:49:33.577Z"
   },
   {
    "duration": 65,
    "start_time": "2023-03-16T18:49:33.597Z"
   },
   {
    "duration": 21,
    "start_time": "2023-03-16T18:49:33.664Z"
   },
   {
    "duration": 43,
    "start_time": "2023-03-16T18:49:33.686Z"
   },
   {
    "duration": 25,
    "start_time": "2023-03-16T18:49:33.731Z"
   },
   {
    "duration": 34,
    "start_time": "2023-03-16T18:49:33.758Z"
   },
   {
    "duration": 42,
    "start_time": "2023-03-16T18:49:33.794Z"
   },
   {
    "duration": 44,
    "start_time": "2023-03-16T18:49:33.837Z"
   },
   {
    "duration": 25,
    "start_time": "2023-03-16T18:49:33.882Z"
   },
   {
    "duration": 24,
    "start_time": "2023-03-16T18:49:33.909Z"
   },
   {
    "duration": 73,
    "start_time": "2023-03-16T18:50:17.116Z"
   },
   {
    "duration": 0,
    "start_time": "2023-03-16T18:50:17.191Z"
   },
   {
    "duration": 0,
    "start_time": "2023-03-16T18:50:17.192Z"
   },
   {
    "duration": 0,
    "start_time": "2023-03-16T18:50:17.193Z"
   },
   {
    "duration": 0,
    "start_time": "2023-03-16T18:50:17.194Z"
   },
   {
    "duration": 0,
    "start_time": "2023-03-16T18:50:17.195Z"
   },
   {
    "duration": 0,
    "start_time": "2023-03-16T18:50:17.196Z"
   },
   {
    "duration": 0,
    "start_time": "2023-03-16T18:50:17.197Z"
   },
   {
    "duration": 0,
    "start_time": "2023-03-16T18:50:17.198Z"
   },
   {
    "duration": 0,
    "start_time": "2023-03-16T18:50:17.199Z"
   },
   {
    "duration": 0,
    "start_time": "2023-03-16T18:50:17.200Z"
   },
   {
    "duration": 0,
    "start_time": "2023-03-16T18:50:17.201Z"
   },
   {
    "duration": 0,
    "start_time": "2023-03-16T18:50:17.202Z"
   },
   {
    "duration": 0,
    "start_time": "2023-03-16T18:50:17.203Z"
   },
   {
    "duration": 0,
    "start_time": "2023-03-16T18:50:17.204Z"
   },
   {
    "duration": 0,
    "start_time": "2023-03-16T18:50:17.205Z"
   },
   {
    "duration": 0,
    "start_time": "2023-03-16T18:50:17.206Z"
   },
   {
    "duration": 0,
    "start_time": "2023-03-16T18:50:17.207Z"
   },
   {
    "duration": 0,
    "start_time": "2023-03-16T18:50:17.208Z"
   },
   {
    "duration": 0,
    "start_time": "2023-03-16T18:50:17.209Z"
   },
   {
    "duration": 0,
    "start_time": "2023-03-16T18:50:17.210Z"
   },
   {
    "duration": 47,
    "start_time": "2023-03-16T18:50:17.212Z"
   },
   {
    "duration": 0,
    "start_time": "2023-03-16T18:50:17.260Z"
   },
   {
    "duration": 1,
    "start_time": "2023-03-16T18:50:17.261Z"
   },
   {
    "duration": 0,
    "start_time": "2023-03-16T18:50:17.263Z"
   },
   {
    "duration": 0,
    "start_time": "2023-03-16T18:50:17.264Z"
   },
   {
    "duration": 479,
    "start_time": "2023-03-16T18:50:43.429Z"
   },
   {
    "duration": 24,
    "start_time": "2023-03-16T18:50:43.910Z"
   },
   {
    "duration": 16,
    "start_time": "2023-03-16T18:50:43.935Z"
   },
   {
    "duration": 10,
    "start_time": "2023-03-16T18:50:43.952Z"
   },
   {
    "duration": 34,
    "start_time": "2023-03-16T18:50:43.964Z"
   },
   {
    "duration": 24,
    "start_time": "2023-03-16T18:50:44.000Z"
   },
   {
    "duration": 10,
    "start_time": "2023-03-16T18:50:44.026Z"
   },
   {
    "duration": 9,
    "start_time": "2023-03-16T18:50:44.038Z"
   },
   {
    "duration": 8,
    "start_time": "2023-03-16T18:50:44.049Z"
   },
   {
    "duration": 4,
    "start_time": "2023-03-16T18:50:44.059Z"
   },
   {
    "duration": 37,
    "start_time": "2023-03-16T18:50:44.065Z"
   },
   {
    "duration": 29,
    "start_time": "2023-03-16T18:50:44.103Z"
   },
   {
    "duration": 4,
    "start_time": "2023-03-16T18:50:44.133Z"
   },
   {
    "duration": 11,
    "start_time": "2023-03-16T18:50:44.139Z"
   },
   {
    "duration": 19,
    "start_time": "2023-03-16T18:50:44.152Z"
   },
   {
    "duration": 16,
    "start_time": "2023-03-16T18:50:44.173Z"
   },
   {
    "duration": 32,
    "start_time": "2023-03-16T18:50:44.191Z"
   },
   {
    "duration": 11,
    "start_time": "2023-03-16T18:50:44.225Z"
   },
   {
    "duration": 25,
    "start_time": "2023-03-16T18:50:44.238Z"
   },
   {
    "duration": 4,
    "start_time": "2023-03-16T18:50:44.265Z"
   },
   {
    "duration": 28,
    "start_time": "2023-03-16T18:50:44.271Z"
   },
   {
    "duration": 36,
    "start_time": "2023-03-16T18:50:44.301Z"
   },
   {
    "duration": 24,
    "start_time": "2023-03-16T18:50:44.338Z"
   },
   {
    "duration": 26,
    "start_time": "2023-03-16T18:50:44.364Z"
   },
   {
    "duration": 51,
    "start_time": "2023-03-16T18:50:44.392Z"
   },
   {
    "duration": 490,
    "start_time": "2023-03-16T18:51:21.721Z"
   },
   {
    "duration": 21,
    "start_time": "2023-03-16T18:51:22.213Z"
   },
   {
    "duration": 14,
    "start_time": "2023-03-16T18:51:22.236Z"
   },
   {
    "duration": 9,
    "start_time": "2023-03-16T18:51:22.252Z"
   },
   {
    "duration": 32,
    "start_time": "2023-03-16T18:51:22.263Z"
   },
   {
    "duration": 4,
    "start_time": "2023-03-16T18:51:22.296Z"
   },
   {
    "duration": 9,
    "start_time": "2023-03-16T18:51:22.301Z"
   },
   {
    "duration": 46,
    "start_time": "2023-03-16T18:51:22.311Z"
   },
   {
    "duration": 32,
    "start_time": "2023-03-16T18:51:22.358Z"
   },
   {
    "duration": 4,
    "start_time": "2023-03-16T18:51:22.394Z"
   },
   {
    "duration": 32,
    "start_time": "2023-03-16T18:51:22.400Z"
   },
   {
    "duration": 9,
    "start_time": "2023-03-16T18:51:22.434Z"
   },
   {
    "duration": 4,
    "start_time": "2023-03-16T18:51:22.444Z"
   },
   {
    "duration": 14,
    "start_time": "2023-03-16T18:51:22.450Z"
   },
   {
    "duration": 18,
    "start_time": "2023-03-16T18:51:22.466Z"
   },
   {
    "duration": 38,
    "start_time": "2023-03-16T18:51:22.485Z"
   },
   {
    "duration": 4,
    "start_time": "2023-03-16T18:51:22.525Z"
   },
   {
    "duration": 12,
    "start_time": "2023-03-16T18:51:22.530Z"
   },
   {
    "duration": 5,
    "start_time": "2023-03-16T18:51:22.543Z"
   },
   {
    "duration": 6,
    "start_time": "2023-03-16T18:51:22.550Z"
   },
   {
    "duration": 66,
    "start_time": "2023-03-16T18:51:22.558Z"
   },
   {
    "duration": 24,
    "start_time": "2023-03-16T18:51:22.626Z"
   },
   {
    "duration": 72,
    "start_time": "2023-03-16T18:51:22.651Z"
   },
   {
    "duration": 30,
    "start_time": "2023-03-16T18:51:22.725Z"
   },
   {
    "duration": 25,
    "start_time": "2023-03-16T18:51:22.758Z"
   },
   {
    "duration": 449,
    "start_time": "2023-03-16T18:51:49.087Z"
   },
   {
    "duration": 25,
    "start_time": "2023-03-16T18:51:49.538Z"
   },
   {
    "duration": 22,
    "start_time": "2023-03-16T18:51:49.565Z"
   },
   {
    "duration": 10,
    "start_time": "2023-03-16T18:51:49.590Z"
   },
   {
    "duration": 54,
    "start_time": "2023-03-16T18:51:49.602Z"
   },
   {
    "duration": 3,
    "start_time": "2023-03-16T18:51:49.658Z"
   },
   {
    "duration": 10,
    "start_time": "2023-03-16T18:51:49.663Z"
   },
   {
    "duration": 5,
    "start_time": "2023-03-16T18:51:49.675Z"
   },
   {
    "duration": 9,
    "start_time": "2023-03-16T18:51:49.682Z"
   },
   {
    "duration": 29,
    "start_time": "2023-03-16T18:51:49.694Z"
   },
   {
    "duration": 35,
    "start_time": "2023-03-16T18:51:49.725Z"
   },
   {
    "duration": 9,
    "start_time": "2023-03-16T18:51:49.761Z"
   },
   {
    "duration": 3,
    "start_time": "2023-03-16T18:51:49.772Z"
   },
   {
    "duration": 13,
    "start_time": "2023-03-16T18:51:49.777Z"
   },
   {
    "duration": 44,
    "start_time": "2023-03-16T18:51:49.792Z"
   },
   {
    "duration": 17,
    "start_time": "2023-03-16T18:51:49.838Z"
   },
   {
    "duration": 3,
    "start_time": "2023-03-16T18:51:49.856Z"
   },
   {
    "duration": 13,
    "start_time": "2023-03-16T18:51:49.861Z"
   },
   {
    "duration": 8,
    "start_time": "2023-03-16T18:51:49.875Z"
   },
   {
    "duration": 4,
    "start_time": "2023-03-16T18:51:49.884Z"
   },
   {
    "duration": 50,
    "start_time": "2023-03-16T18:51:49.889Z"
   },
   {
    "duration": 23,
    "start_time": "2023-03-16T18:51:49.941Z"
   },
   {
    "duration": 19,
    "start_time": "2023-03-16T18:51:49.966Z"
   },
   {
    "duration": 48,
    "start_time": "2023-03-16T18:51:49.987Z"
   },
   {
    "duration": 25,
    "start_time": "2023-03-16T18:51:50.037Z"
   },
   {
    "duration": 448,
    "start_time": "2023-03-16T18:54:14.750Z"
   },
   {
    "duration": 24,
    "start_time": "2023-03-16T18:54:15.200Z"
   },
   {
    "duration": 15,
    "start_time": "2023-03-16T18:54:15.226Z"
   },
   {
    "duration": 10,
    "start_time": "2023-03-16T18:54:15.244Z"
   },
   {
    "duration": 32,
    "start_time": "2023-03-16T18:54:15.256Z"
   },
   {
    "duration": 3,
    "start_time": "2023-03-16T18:54:15.290Z"
   },
   {
    "duration": 37,
    "start_time": "2023-03-16T18:54:15.295Z"
   },
   {
    "duration": 5,
    "start_time": "2023-03-16T18:54:15.334Z"
   },
   {
    "duration": 9,
    "start_time": "2023-03-16T18:54:15.341Z"
   },
   {
    "duration": 5,
    "start_time": "2023-03-16T18:54:15.353Z"
   },
   {
    "duration": 66,
    "start_time": "2023-03-16T18:54:15.359Z"
   },
   {
    "duration": 10,
    "start_time": "2023-03-16T18:54:15.427Z"
   },
   {
    "duration": 4,
    "start_time": "2023-03-16T18:54:15.439Z"
   },
   {
    "duration": 12,
    "start_time": "2023-03-16T18:54:15.445Z"
   },
   {
    "duration": 23,
    "start_time": "2023-03-16T18:54:15.458Z"
   },
   {
    "duration": 47,
    "start_time": "2023-03-16T18:54:15.483Z"
   },
   {
    "duration": 4,
    "start_time": "2023-03-16T18:54:15.531Z"
   },
   {
    "duration": 15,
    "start_time": "2023-03-16T18:54:15.536Z"
   },
   {
    "duration": 5,
    "start_time": "2023-03-16T18:54:15.553Z"
   },
   {
    "duration": 4,
    "start_time": "2023-03-16T18:54:15.559Z"
   },
   {
    "duration": 30,
    "start_time": "2023-03-16T18:54:15.564Z"
   },
   {
    "duration": 73,
    "start_time": "2023-03-16T18:54:15.596Z"
   },
   {
    "duration": 0,
    "start_time": "2023-03-16T18:54:15.671Z"
   },
   {
    "duration": 0,
    "start_time": "2023-03-16T18:54:15.672Z"
   },
   {
    "duration": 0,
    "start_time": "2023-03-16T18:54:15.673Z"
   },
   {
    "duration": 0,
    "start_time": "2023-03-16T18:54:15.674Z"
   },
   {
    "duration": 432,
    "start_time": "2023-03-16T18:54:42.066Z"
   },
   {
    "duration": 22,
    "start_time": "2023-03-16T18:54:42.500Z"
   },
   {
    "duration": 14,
    "start_time": "2023-03-16T18:54:42.524Z"
   },
   {
    "duration": 9,
    "start_time": "2023-03-16T18:54:42.540Z"
   },
   {
    "duration": 33,
    "start_time": "2023-03-16T18:54:42.551Z"
   },
   {
    "duration": 4,
    "start_time": "2023-03-16T18:54:42.585Z"
   },
   {
    "duration": 36,
    "start_time": "2023-03-16T18:54:42.591Z"
   },
   {
    "duration": 4,
    "start_time": "2023-03-16T18:54:42.629Z"
   },
   {
    "duration": 17,
    "start_time": "2023-03-16T18:54:42.635Z"
   },
   {
    "duration": 4,
    "start_time": "2023-03-16T18:54:42.656Z"
   },
   {
    "duration": 37,
    "start_time": "2023-03-16T18:54:42.662Z"
   },
   {
    "duration": 32,
    "start_time": "2023-03-16T18:54:42.700Z"
   },
   {
    "duration": 4,
    "start_time": "2023-03-16T18:54:42.733Z"
   },
   {
    "duration": 16,
    "start_time": "2023-03-16T18:54:42.739Z"
   },
   {
    "duration": 22,
    "start_time": "2023-03-16T18:54:42.756Z"
   },
   {
    "duration": 16,
    "start_time": "2023-03-16T18:54:42.780Z"
   },
   {
    "duration": 5,
    "start_time": "2023-03-16T18:54:42.824Z"
   },
   {
    "duration": 21,
    "start_time": "2023-03-16T18:54:42.830Z"
   },
   {
    "duration": 6,
    "start_time": "2023-03-16T18:54:42.852Z"
   },
   {
    "duration": 22,
    "start_time": "2023-03-16T18:54:42.859Z"
   },
   {
    "duration": 31,
    "start_time": "2023-03-16T18:54:42.883Z"
   },
   {
    "duration": 22,
    "start_time": "2023-03-16T18:54:42.916Z"
   },
   {
    "duration": 33,
    "start_time": "2023-03-16T18:54:42.940Z"
   },
   {
    "duration": 23,
    "start_time": "2023-03-16T18:54:42.974Z"
   },
   {
    "duration": 32,
    "start_time": "2023-03-16T18:54:42.999Z"
   },
   {
    "duration": 498,
    "start_time": "2023-03-16T18:55:20.998Z"
   },
   {
    "duration": 26,
    "start_time": "2023-03-16T18:55:21.499Z"
   },
   {
    "duration": 15,
    "start_time": "2023-03-16T18:55:21.526Z"
   },
   {
    "duration": 9,
    "start_time": "2023-03-16T18:55:21.543Z"
   },
   {
    "duration": 32,
    "start_time": "2023-03-16T18:55:21.554Z"
   },
   {
    "duration": 4,
    "start_time": "2023-03-16T18:55:21.587Z"
   },
   {
    "duration": 36,
    "start_time": "2023-03-16T18:55:21.592Z"
   },
   {
    "duration": 4,
    "start_time": "2023-03-16T18:55:21.630Z"
   },
   {
    "duration": 9,
    "start_time": "2023-03-16T18:55:21.635Z"
   },
   {
    "duration": 5,
    "start_time": "2023-03-16T18:55:21.646Z"
   },
   {
    "duration": 35,
    "start_time": "2023-03-16T18:55:21.652Z"
   },
   {
    "duration": 36,
    "start_time": "2023-03-16T18:55:21.688Z"
   },
   {
    "duration": 4,
    "start_time": "2023-03-16T18:55:21.726Z"
   },
   {
    "duration": 14,
    "start_time": "2023-03-16T18:55:21.732Z"
   },
   {
    "duration": 20,
    "start_time": "2023-03-16T18:55:21.747Z"
   },
   {
    "duration": 18,
    "start_time": "2023-03-16T18:55:21.769Z"
   },
   {
    "duration": 4,
    "start_time": "2023-03-16T18:55:21.789Z"
   },
   {
    "duration": 11,
    "start_time": "2023-03-16T18:55:21.823Z"
   },
   {
    "duration": 13,
    "start_time": "2023-03-16T18:55:21.836Z"
   },
   {
    "duration": 3,
    "start_time": "2023-03-16T18:55:21.851Z"
   },
   {
    "duration": 27,
    "start_time": "2023-03-16T18:55:21.855Z"
   },
   {
    "duration": 48,
    "start_time": "2023-03-16T18:55:21.883Z"
   },
   {
    "duration": 19,
    "start_time": "2023-03-16T18:55:21.933Z"
   },
   {
    "duration": 24,
    "start_time": "2023-03-16T18:55:21.954Z"
   },
   {
    "duration": 44,
    "start_time": "2023-03-16T18:55:21.979Z"
   },
   {
    "duration": 500,
    "start_time": "2023-03-16T18:55:50.040Z"
   },
   {
    "duration": 23,
    "start_time": "2023-03-16T18:55:50.542Z"
   },
   {
    "duration": 14,
    "start_time": "2023-03-16T18:55:50.567Z"
   },
   {
    "duration": 9,
    "start_time": "2023-03-16T18:55:50.583Z"
   },
   {
    "duration": 51,
    "start_time": "2023-03-16T18:55:50.593Z"
   },
   {
    "duration": 3,
    "start_time": "2023-03-16T18:55:50.646Z"
   },
   {
    "duration": 9,
    "start_time": "2023-03-16T18:55:50.651Z"
   },
   {
    "duration": 4,
    "start_time": "2023-03-16T18:55:50.662Z"
   },
   {
    "duration": 9,
    "start_time": "2023-03-16T18:55:50.668Z"
   },
   {
    "duration": 4,
    "start_time": "2023-03-16T18:55:50.680Z"
   },
   {
    "duration": 81,
    "start_time": "2023-03-16T18:55:50.685Z"
   },
   {
    "duration": 13,
    "start_time": "2023-03-16T18:55:50.768Z"
   },
   {
    "duration": 5,
    "start_time": "2023-03-16T18:55:50.783Z"
   },
   {
    "duration": 16,
    "start_time": "2023-03-16T18:55:50.789Z"
   },
   {
    "duration": 30,
    "start_time": "2023-03-16T18:55:50.807Z"
   },
   {
    "duration": 19,
    "start_time": "2023-03-16T18:55:50.839Z"
   },
   {
    "duration": 5,
    "start_time": "2023-03-16T18:55:50.860Z"
   },
   {
    "duration": 13,
    "start_time": "2023-03-16T18:55:50.867Z"
   },
   {
    "duration": 6,
    "start_time": "2023-03-16T18:55:50.882Z"
   },
   {
    "duration": 34,
    "start_time": "2023-03-16T18:55:50.890Z"
   },
   {
    "duration": 35,
    "start_time": "2023-03-16T18:55:50.926Z"
   },
   {
    "duration": 22,
    "start_time": "2023-03-16T18:55:50.963Z"
   },
   {
    "duration": 45,
    "start_time": "2023-03-16T18:55:50.988Z"
   },
   {
    "duration": 24,
    "start_time": "2023-03-16T18:55:51.035Z"
   },
   {
    "duration": 23,
    "start_time": "2023-03-16T18:55:51.060Z"
   },
   {
    "duration": 1285,
    "start_time": "2023-03-16T18:58:51.187Z"
   },
   {
    "duration": 449,
    "start_time": "2023-03-16T18:59:41.841Z"
   },
   {
    "duration": 24,
    "start_time": "2023-03-16T18:59:42.292Z"
   },
   {
    "duration": 15,
    "start_time": "2023-03-16T18:59:42.318Z"
   },
   {
    "duration": 10,
    "start_time": "2023-03-16T18:59:42.335Z"
   },
   {
    "duration": 32,
    "start_time": "2023-03-16T18:59:42.347Z"
   },
   {
    "duration": 4,
    "start_time": "2023-03-16T18:59:42.381Z"
   },
   {
    "duration": 23,
    "start_time": "2023-03-16T18:59:42.387Z"
   },
   {
    "duration": 13,
    "start_time": "2023-03-16T18:59:42.412Z"
   },
   {
    "duration": 7,
    "start_time": "2023-03-16T18:59:42.426Z"
   },
   {
    "duration": 15,
    "start_time": "2023-03-16T18:59:42.437Z"
   },
   {
    "duration": 49,
    "start_time": "2023-03-16T18:59:42.453Z"
   },
   {
    "duration": 9,
    "start_time": "2023-03-16T18:59:42.504Z"
   },
   {
    "duration": 3,
    "start_time": "2023-03-16T18:59:42.514Z"
   },
   {
    "duration": 10,
    "start_time": "2023-03-16T18:59:42.524Z"
   },
   {
    "duration": 20,
    "start_time": "2023-03-16T18:59:42.535Z"
   },
   {
    "duration": 16,
    "start_time": "2023-03-16T18:59:42.557Z"
   },
   {
    "duration": 3,
    "start_time": "2023-03-16T18:59:42.575Z"
   },
   {
    "duration": 12,
    "start_time": "2023-03-16T18:59:42.579Z"
   },
   {
    "duration": 33,
    "start_time": "2023-03-16T18:59:42.592Z"
   },
   {
    "duration": 4,
    "start_time": "2023-03-16T18:59:42.626Z"
   },
   {
    "duration": 29,
    "start_time": "2023-03-16T18:59:42.631Z"
   },
   {
    "duration": 1555,
    "start_time": "2023-03-16T18:59:42.662Z"
   },
   {
    "duration": 0,
    "start_time": "2023-03-16T18:59:44.220Z"
   },
   {
    "duration": 0,
    "start_time": "2023-03-16T18:59:44.221Z"
   },
   {
    "duration": 0,
    "start_time": "2023-03-16T18:59:44.222Z"
   },
   {
    "duration": 19,
    "start_time": "2023-03-16T19:00:27.343Z"
   },
   {
    "duration": 1419,
    "start_time": "2023-03-16T19:00:56.278Z"
   },
   {
    "duration": 19,
    "start_time": "2023-03-16T19:01:25.040Z"
   },
   {
    "duration": 20,
    "start_time": "2023-03-16T19:03:01.588Z"
   },
   {
    "duration": 80,
    "start_time": "2023-03-16T19:04:26.408Z"
   },
   {
    "duration": 1253,
    "start_time": "2023-03-16T19:04:37.827Z"
   },
   {
    "duration": 25,
    "start_time": "2023-03-16T19:05:12.344Z"
   },
   {
    "duration": 28,
    "start_time": "2023-03-16T19:06:04.107Z"
   },
   {
    "duration": 25,
    "start_time": "2023-03-16T19:06:34.536Z"
   },
   {
    "duration": 473,
    "start_time": "2023-03-16T19:07:20.631Z"
   },
   {
    "duration": 24,
    "start_time": "2023-03-16T19:07:21.106Z"
   },
   {
    "duration": 40,
    "start_time": "2023-03-16T19:07:21.132Z"
   },
   {
    "duration": 14,
    "start_time": "2023-03-16T19:07:21.175Z"
   },
   {
    "duration": 38,
    "start_time": "2023-03-16T19:07:21.191Z"
   },
   {
    "duration": 3,
    "start_time": "2023-03-16T19:07:21.231Z"
   },
   {
    "duration": 33,
    "start_time": "2023-03-16T19:07:21.236Z"
   },
   {
    "duration": 5,
    "start_time": "2023-03-16T19:07:21.270Z"
   },
   {
    "duration": 19,
    "start_time": "2023-03-16T19:07:21.277Z"
   },
   {
    "duration": 12,
    "start_time": "2023-03-16T19:07:21.300Z"
   },
   {
    "duration": 47,
    "start_time": "2023-03-16T19:07:21.314Z"
   },
   {
    "duration": 10,
    "start_time": "2023-03-16T19:07:21.362Z"
   },
   {
    "duration": 12,
    "start_time": "2023-03-16T19:07:21.374Z"
   },
   {
    "duration": 13,
    "start_time": "2023-03-16T19:07:21.387Z"
   },
   {
    "duration": 23,
    "start_time": "2023-03-16T19:07:21.401Z"
   },
   {
    "duration": 18,
    "start_time": "2023-03-16T19:07:21.426Z"
   },
   {
    "duration": 23,
    "start_time": "2023-03-16T19:07:21.446Z"
   },
   {
    "duration": 15,
    "start_time": "2023-03-16T19:07:21.470Z"
   },
   {
    "duration": 8,
    "start_time": "2023-03-16T19:07:21.487Z"
   },
   {
    "duration": 4,
    "start_time": "2023-03-16T19:07:21.496Z"
   },
   {
    "duration": 33,
    "start_time": "2023-03-16T19:07:21.501Z"
   },
   {
    "duration": 42,
    "start_time": "2023-03-16T19:07:21.535Z"
   },
   {
    "duration": 65,
    "start_time": "2023-03-16T19:07:21.579Z"
   },
   {
    "duration": 0,
    "start_time": "2023-03-16T19:07:21.645Z"
   },
   {
    "duration": 0,
    "start_time": "2023-03-16T19:07:21.646Z"
   },
   {
    "duration": 0,
    "start_time": "2023-03-16T19:07:21.647Z"
   },
   {
    "duration": 462,
    "start_time": "2023-03-16T19:07:43.474Z"
   },
   {
    "duration": 24,
    "start_time": "2023-03-16T19:07:43.938Z"
   },
   {
    "duration": 16,
    "start_time": "2023-03-16T19:07:43.963Z"
   },
   {
    "duration": 10,
    "start_time": "2023-03-16T19:07:43.981Z"
   },
   {
    "duration": 64,
    "start_time": "2023-03-16T19:07:43.992Z"
   },
   {
    "duration": 4,
    "start_time": "2023-03-16T19:07:44.058Z"
   },
   {
    "duration": 15,
    "start_time": "2023-03-16T19:07:44.063Z"
   },
   {
    "duration": 5,
    "start_time": "2023-03-16T19:07:44.079Z"
   },
   {
    "duration": 8,
    "start_time": "2023-03-16T19:07:44.086Z"
   },
   {
    "duration": 34,
    "start_time": "2023-03-16T19:07:44.097Z"
   },
   {
    "duration": 34,
    "start_time": "2023-03-16T19:07:44.138Z"
   },
   {
    "duration": 9,
    "start_time": "2023-03-16T19:07:44.174Z"
   },
   {
    "duration": 4,
    "start_time": "2023-03-16T19:07:44.185Z"
   },
   {
    "duration": 13,
    "start_time": "2023-03-16T19:07:44.190Z"
   },
   {
    "duration": 41,
    "start_time": "2023-03-16T19:07:44.205Z"
   },
   {
    "duration": 17,
    "start_time": "2023-03-16T19:07:44.248Z"
   },
   {
    "duration": 4,
    "start_time": "2023-03-16T19:07:44.267Z"
   },
   {
    "duration": 23,
    "start_time": "2023-03-16T19:07:44.273Z"
   },
   {
    "duration": 39,
    "start_time": "2023-03-16T19:07:44.298Z"
   },
   {
    "duration": 3,
    "start_time": "2023-03-16T19:07:44.339Z"
   },
   {
    "duration": 27,
    "start_time": "2023-03-16T19:07:44.344Z"
   },
   {
    "duration": 31,
    "start_time": "2023-03-16T19:07:44.373Z"
   },
   {
    "duration": 40,
    "start_time": "2023-03-16T19:07:44.406Z"
   },
   {
    "duration": 25,
    "start_time": "2023-03-16T19:07:44.448Z"
   },
   {
    "duration": 25,
    "start_time": "2023-03-16T19:07:44.475Z"
   },
   {
    "duration": 1302,
    "start_time": "2023-03-16T19:20:04.864Z"
   },
   {
    "duration": 30,
    "start_time": "2023-03-16T19:20:50.033Z"
   },
   {
    "duration": 455,
    "start_time": "2023-03-16T19:31:46.256Z"
   },
   {
    "duration": 22,
    "start_time": "2023-03-16T19:31:46.713Z"
   },
   {
    "duration": 16,
    "start_time": "2023-03-16T19:31:46.737Z"
   },
   {
    "duration": 10,
    "start_time": "2023-03-16T19:31:46.755Z"
   },
   {
    "duration": 33,
    "start_time": "2023-03-16T19:31:46.766Z"
   },
   {
    "duration": 24,
    "start_time": "2023-03-16T19:31:46.800Z"
   },
   {
    "duration": 9,
    "start_time": "2023-03-16T19:31:46.826Z"
   },
   {
    "duration": 4,
    "start_time": "2023-03-16T19:31:46.836Z"
   },
   {
    "duration": 11,
    "start_time": "2023-03-16T19:31:46.842Z"
   },
   {
    "duration": 4,
    "start_time": "2023-03-16T19:31:46.856Z"
   },
   {
    "duration": 74,
    "start_time": "2023-03-16T19:31:46.862Z"
   },
   {
    "duration": 9,
    "start_time": "2023-03-16T19:31:46.938Z"
   },
   {
    "duration": 4,
    "start_time": "2023-03-16T19:31:46.949Z"
   },
   {
    "duration": 17,
    "start_time": "2023-03-16T19:31:46.957Z"
   },
   {
    "duration": 53,
    "start_time": "2023-03-16T19:31:46.976Z"
   },
   {
    "duration": 21,
    "start_time": "2023-03-16T19:31:47.032Z"
   },
   {
    "duration": 4,
    "start_time": "2023-03-16T19:31:47.055Z"
   },
   {
    "duration": 17,
    "start_time": "2023-03-16T19:31:47.060Z"
   },
   {
    "duration": 9,
    "start_time": "2023-03-16T19:31:47.079Z"
   },
   {
    "duration": 3,
    "start_time": "2023-03-16T19:31:47.090Z"
   },
   {
    "duration": 30,
    "start_time": "2023-03-16T19:31:47.124Z"
   },
   {
    "duration": 56,
    "start_time": "2023-03-16T19:31:47.156Z"
   },
   {
    "duration": 25,
    "start_time": "2023-03-16T19:31:47.214Z"
   },
   {
    "duration": 24,
    "start_time": "2023-03-16T19:31:47.241Z"
   },
   {
    "duration": 24,
    "start_time": "2023-03-16T19:31:47.267Z"
   },
   {
    "duration": 37,
    "start_time": "2023-03-16T19:33:26.235Z"
   },
   {
    "duration": 34,
    "start_time": "2023-03-16T19:33:57.417Z"
   },
   {
    "duration": 26,
    "start_time": "2023-03-16T19:45:08.538Z"
   },
   {
    "duration": 461,
    "start_time": "2023-03-16T20:00:06.030Z"
   },
   {
    "duration": 21,
    "start_time": "2023-03-16T20:00:06.493Z"
   },
   {
    "duration": 14,
    "start_time": "2023-03-16T20:00:06.516Z"
   },
   {
    "duration": 8,
    "start_time": "2023-03-16T20:00:06.532Z"
   },
   {
    "duration": 30,
    "start_time": "2023-03-16T20:00:06.542Z"
   },
   {
    "duration": 3,
    "start_time": "2023-03-16T20:00:06.574Z"
   },
   {
    "duration": 14,
    "start_time": "2023-03-16T20:00:06.579Z"
   },
   {
    "duration": 4,
    "start_time": "2023-03-16T20:00:06.595Z"
   },
   {
    "duration": 8,
    "start_time": "2023-03-16T20:00:06.624Z"
   },
   {
    "duration": 5,
    "start_time": "2023-03-16T20:00:06.634Z"
   },
   {
    "duration": 37,
    "start_time": "2023-03-16T20:00:06.640Z"
   },
   {
    "duration": 10,
    "start_time": "2023-03-16T20:00:06.678Z"
   },
   {
    "duration": 4,
    "start_time": "2023-03-16T20:00:06.689Z"
   },
   {
    "duration": 37,
    "start_time": "2023-03-16T20:00:06.695Z"
   },
   {
    "duration": 27,
    "start_time": "2023-03-16T20:00:06.734Z"
   },
   {
    "duration": 18,
    "start_time": "2023-03-16T20:00:06.764Z"
   },
   {
    "duration": 3,
    "start_time": "2023-03-16T20:00:06.784Z"
   },
   {
    "duration": 18,
    "start_time": "2023-03-16T20:00:06.789Z"
   },
   {
    "duration": 11,
    "start_time": "2023-03-16T20:00:06.822Z"
   },
   {
    "duration": 9,
    "start_time": "2023-03-16T20:00:06.835Z"
   },
   {
    "duration": 27,
    "start_time": "2023-03-16T20:00:06.846Z"
   },
   {
    "duration": 56,
    "start_time": "2023-03-16T20:00:06.875Z"
   },
   {
    "duration": 29,
    "start_time": "2023-03-16T20:00:06.933Z"
   },
   {
    "duration": 28,
    "start_time": "2023-03-16T20:00:06.964Z"
   },
   {
    "duration": 53,
    "start_time": "2023-03-16T20:00:06.994Z"
   },
   {
    "duration": 485,
    "start_time": "2023-03-16T20:09:14.491Z"
   },
   {
    "duration": 21,
    "start_time": "2023-03-16T20:09:14.978Z"
   },
   {
    "duration": 14,
    "start_time": "2023-03-16T20:09:15.001Z"
   },
   {
    "duration": 16,
    "start_time": "2023-03-16T20:09:15.024Z"
   },
   {
    "duration": 36,
    "start_time": "2023-03-16T20:09:15.041Z"
   },
   {
    "duration": 3,
    "start_time": "2023-03-16T20:09:15.079Z"
   },
   {
    "duration": 11,
    "start_time": "2023-03-16T20:09:15.084Z"
   },
   {
    "duration": 4,
    "start_time": "2023-03-16T20:09:15.096Z"
   },
   {
    "duration": 29,
    "start_time": "2023-03-16T20:09:15.102Z"
   },
   {
    "duration": 5,
    "start_time": "2023-03-16T20:09:15.133Z"
   },
   {
    "duration": 50,
    "start_time": "2023-03-16T20:09:15.139Z"
   },
   {
    "duration": 9,
    "start_time": "2023-03-16T20:09:15.191Z"
   },
   {
    "duration": 16,
    "start_time": "2023-03-16T20:09:15.201Z"
   },
   {
    "duration": 10,
    "start_time": "2023-03-16T20:09:15.219Z"
   },
   {
    "duration": 20,
    "start_time": "2023-03-16T20:09:15.231Z"
   },
   {
    "duration": 18,
    "start_time": "2023-03-16T20:09:15.252Z"
   },
   {
    "duration": 5,
    "start_time": "2023-03-16T20:09:15.271Z"
   },
   {
    "duration": 15,
    "start_time": "2023-03-16T20:09:15.278Z"
   },
   {
    "duration": 6,
    "start_time": "2023-03-16T20:09:15.295Z"
   },
   {
    "duration": 3,
    "start_time": "2023-03-16T20:09:15.323Z"
   },
   {
    "duration": 29,
    "start_time": "2023-03-16T20:09:15.328Z"
   },
   {
    "duration": 29,
    "start_time": "2023-03-16T20:09:15.359Z"
   },
   {
    "duration": 47,
    "start_time": "2023-03-16T20:09:15.390Z"
   },
   {
    "duration": 25,
    "start_time": "2023-03-16T20:09:15.439Z"
   },
   {
    "duration": 25,
    "start_time": "2023-03-16T20:09:15.465Z"
   },
   {
    "duration": 481,
    "start_time": "2023-03-16T20:32:12.703Z"
   },
   {
    "duration": 21,
    "start_time": "2023-03-16T20:32:13.186Z"
   },
   {
    "duration": 13,
    "start_time": "2023-03-16T20:32:13.209Z"
   },
   {
    "duration": 9,
    "start_time": "2023-03-16T20:32:13.223Z"
   },
   {
    "duration": 37,
    "start_time": "2023-03-16T20:32:13.233Z"
   },
   {
    "duration": 3,
    "start_time": "2023-03-16T20:32:13.271Z"
   },
   {
    "duration": 11,
    "start_time": "2023-03-16T20:32:13.275Z"
   },
   {
    "duration": 4,
    "start_time": "2023-03-16T20:32:13.287Z"
   },
   {
    "duration": 7,
    "start_time": "2023-03-16T20:32:13.292Z"
   },
   {
    "duration": 24,
    "start_time": "2023-03-16T20:32:13.300Z"
   },
   {
    "duration": 31,
    "start_time": "2023-03-16T20:32:13.326Z"
   },
   {
    "duration": 9,
    "start_time": "2023-03-16T20:32:13.359Z"
   },
   {
    "duration": 4,
    "start_time": "2023-03-16T20:32:13.369Z"
   },
   {
    "duration": 10,
    "start_time": "2023-03-16T20:32:13.375Z"
   },
   {
    "duration": 43,
    "start_time": "2023-03-16T20:32:13.387Z"
   },
   {
    "duration": 16,
    "start_time": "2023-03-16T20:32:13.432Z"
   },
   {
    "duration": 3,
    "start_time": "2023-03-16T20:32:13.449Z"
   },
   {
    "duration": 11,
    "start_time": "2023-03-16T20:32:13.454Z"
   },
   {
    "duration": 11,
    "start_time": "2023-03-16T20:32:13.466Z"
   },
   {
    "duration": 3,
    "start_time": "2023-03-16T20:32:13.478Z"
   },
   {
    "duration": 53,
    "start_time": "2023-03-16T20:32:13.482Z"
   },
   {
    "duration": 28,
    "start_time": "2023-03-16T20:32:13.536Z"
   },
   {
    "duration": 25,
    "start_time": "2023-03-16T20:32:13.566Z"
   },
   {
    "duration": 52,
    "start_time": "2023-03-16T20:32:13.593Z"
   },
   {
    "duration": 25,
    "start_time": "2023-03-16T20:32:13.648Z"
   },
   {
    "duration": 83,
    "start_time": "2023-03-16T20:32:13.675Z"
   },
   {
    "duration": 433,
    "start_time": "2023-03-16T20:32:26.168Z"
   },
   {
    "duration": 22,
    "start_time": "2023-03-16T20:32:26.603Z"
   },
   {
    "duration": 15,
    "start_time": "2023-03-16T20:32:26.627Z"
   },
   {
    "duration": 19,
    "start_time": "2023-03-16T20:32:26.644Z"
   },
   {
    "duration": 31,
    "start_time": "2023-03-16T20:32:26.665Z"
   },
   {
    "duration": 5,
    "start_time": "2023-03-16T20:32:26.697Z"
   },
   {
    "duration": 26,
    "start_time": "2023-03-16T20:32:26.703Z"
   },
   {
    "duration": 15,
    "start_time": "2023-03-16T20:32:26.731Z"
   },
   {
    "duration": 14,
    "start_time": "2023-03-16T20:32:26.748Z"
   },
   {
    "duration": 5,
    "start_time": "2023-03-16T20:32:26.764Z"
   },
   {
    "duration": 32,
    "start_time": "2023-03-16T20:32:26.771Z"
   },
   {
    "duration": 23,
    "start_time": "2023-03-16T20:32:26.805Z"
   },
   {
    "duration": 10,
    "start_time": "2023-03-16T20:32:26.831Z"
   },
   {
    "duration": 17,
    "start_time": "2023-03-16T20:32:26.843Z"
   },
   {
    "duration": 26,
    "start_time": "2023-03-16T20:32:26.861Z"
   },
   {
    "duration": 34,
    "start_time": "2023-03-16T20:32:26.889Z"
   },
   {
    "duration": 4,
    "start_time": "2023-03-16T20:32:26.925Z"
   },
   {
    "duration": 25,
    "start_time": "2023-03-16T20:32:26.931Z"
   },
   {
    "duration": 17,
    "start_time": "2023-03-16T20:32:26.958Z"
   },
   {
    "duration": 9,
    "start_time": "2023-03-16T20:32:26.977Z"
   },
   {
    "duration": 34,
    "start_time": "2023-03-16T20:32:26.987Z"
   },
   {
    "duration": 30,
    "start_time": "2023-03-16T20:32:27.023Z"
   },
   {
    "duration": 25,
    "start_time": "2023-03-16T20:32:27.055Z"
   },
   {
    "duration": 42,
    "start_time": "2023-03-16T20:32:27.082Z"
   },
   {
    "duration": 26,
    "start_time": "2023-03-16T20:32:27.126Z"
   },
   {
    "duration": 487,
    "start_time": "2023-03-16T20:34:27.022Z"
   },
   {
    "duration": 23,
    "start_time": "2023-03-16T20:34:27.511Z"
   },
   {
    "duration": 15,
    "start_time": "2023-03-16T20:34:27.536Z"
   },
   {
    "duration": 9,
    "start_time": "2023-03-16T20:34:27.553Z"
   },
   {
    "duration": 31,
    "start_time": "2023-03-16T20:34:27.563Z"
   },
   {
    "duration": 3,
    "start_time": "2023-03-16T20:34:27.596Z"
   },
   {
    "duration": 11,
    "start_time": "2023-03-16T20:34:27.625Z"
   },
   {
    "duration": 6,
    "start_time": "2023-03-16T20:34:27.638Z"
   },
   {
    "duration": 7,
    "start_time": "2023-03-16T20:34:27.646Z"
   },
   {
    "duration": 4,
    "start_time": "2023-03-16T20:34:27.656Z"
   },
   {
    "duration": 77,
    "start_time": "2023-03-16T20:34:27.662Z"
   },
   {
    "duration": 12,
    "start_time": "2023-03-16T20:34:27.742Z"
   },
   {
    "duration": 15,
    "start_time": "2023-03-16T20:34:27.756Z"
   },
   {
    "duration": 10,
    "start_time": "2023-03-16T20:34:27.773Z"
   },
   {
    "duration": 33,
    "start_time": "2023-03-16T20:34:27.785Z"
   },
   {
    "duration": 17,
    "start_time": "2023-03-16T20:34:27.820Z"
   },
   {
    "duration": 5,
    "start_time": "2023-03-16T20:34:27.839Z"
   },
   {
    "duration": 12,
    "start_time": "2023-03-16T20:34:27.846Z"
   },
   {
    "duration": 5,
    "start_time": "2023-03-16T20:34:27.859Z"
   },
   {
    "duration": 7,
    "start_time": "2023-03-16T20:34:27.865Z"
   },
   {
    "duration": 28,
    "start_time": "2023-03-16T20:34:27.873Z"
   },
   {
    "duration": 38,
    "start_time": "2023-03-16T20:34:27.923Z"
   },
   {
    "duration": 26,
    "start_time": "2023-03-16T20:34:27.962Z"
   },
   {
    "duration": 58,
    "start_time": "2023-03-16T20:34:27.989Z"
   },
   {
    "duration": 26,
    "start_time": "2023-03-16T20:34:28.049Z"
   }
  ],
  "colab": {
   "provenance": []
  },
  "kernelspec": {
   "display_name": "Python 3 (ipykernel)",
   "language": "python",
   "name": "python3"
  },
  "language_info": {
   "codemirror_mode": {
    "name": "ipython",
    "version": 3
   },
   "file_extension": ".py",
   "mimetype": "text/x-python",
   "name": "python",
   "nbconvert_exporter": "python",
   "pygments_lexer": "ipython3",
   "version": "3.9.5"
  },
  "toc": {
   "base_numbering": 1,
   "nav_menu": {},
   "number_sections": true,
   "sideBar": true,
   "skip_h1_title": true,
   "title_cell": "Table of Contents",
   "title_sidebar": "Contents",
   "toc_cell": false,
   "toc_position": {},
   "toc_section_display": true,
   "toc_window_display": false
  }
 },
 "nbformat": 4,
 "nbformat_minor": 5
}
